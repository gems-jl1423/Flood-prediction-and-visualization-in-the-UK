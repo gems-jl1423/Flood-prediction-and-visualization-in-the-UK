{
 "cells": [
  {
   "cell_type": "markdown",
   "metadata": {
    "slideshow": {
     "slide_type": "slide"
    }
   },
   "source": [
    "\n",
    "# ADS Project 1: The Deluge - Flood Risk in the UK\n",
    "\n",
    "[James Percival](https://www.imperial.ac.uk/people/j.percival),\n",
    "[Parastoo Salah](https://www.imperial.ac.uk/people/p.salah)\n",
    "and\n",
    "[Marijan Beg](https://www.imperial.ac.uk/people/marijan.beg)\n"
   ]
  },
  {
   "cell_type": "markdown",
   "metadata": {
    "slideshow": {
     "slide_type": "notes"
    }
   },
   "source": [
    "## Synopsis:\n",
    "\n",
    "Given the global and UK distribution of human habitation, flooding is one of the most common and impactful natural distasters which can occur. [Analysis of satellite data](https://doi.org/10.1038/s41586-021-03695-w) coupled with [predictions on future changes](https://www.ipcc.ch/report/ar5/syr/) to the climate suggest this is an issue which will only get more frequent and severe.\n",
    "\n",
    "Flooding can occur from a number of sources:\n",
    "\n",
    "- Surface water (from rainfall run-off, or from the fresh or dirty water systems)\n",
    "- Rivers, due to blockage or excess rainfall\n",
    "- Seas, due to sea level rise or storm surge.\n",
    "\n",
    "![Flooding in York, UK](images/York_Floods_2015.jpg)\n",
    "_picture taken by [J. Scott](https://flickr.com/photos/60539443@N05/23675629939), used under [CC-BY](https://creativecommons.org/licenses/by/2.0/deed.en)_\n",
    "\n",
    "Currently flood risk from these sources in the UK is assessed in a number of ways using topographic data, large, complex numerical models and a great degree of human experience. It would be useful to have rapid tools leveraging ML teachniques to update these risk assessments in piecemeal as new data is obtained.\n",
    "\n",
    "The purpose of this exercise is to:\n",
    "\n",
    "  (a) develop prediction/classification routines for flood probability and impact for the UK, and\n",
    "  \n",
    "  (b) use this tool, together with rainfall and river level data to provide a holistic tool to assess and analyse flood risk.\n"
   ]
  },
  {
   "cell_type": "markdown",
   "metadata": {
    "slideshow": {
     "slide_type": "notes"
    }
   },
   "source": [
    "## Problem definition\n",
    "\n",
    "### Datasets\n",
    "\n",
    "Samble datasets have been provided for you in the `flood_tools/resources` folder. These represent a subset of the potential test data which will be applied to your model.\n",
    "\n",
    "#### Postcode data\n",
    "\n",
    "Three `.csv` files, `postcodes_labelled.csv`, `postcodes_unlabelled.csv` and `sector_data.csv` deal with information indexed by postcode, or postcode sector.\n",
    "\n",
    "The fully labelled `postcodes_labelled.csv` data provides a sample of labelled data for postcodes in a region of England. The column headings are:\n",
    "\n",
    "- `postcode`: The full unit postcode for the row.\n",
    "- `sector`: The postcode sector for the row.\n",
    "- `easting`: The OS easting (in m) for the centroid of this postcode.\n",
    "- `northing`: The OS easting (in m) for the centroid of this postcode.\n",
    "- `soilType`: The typical soil type for the postcode, as a category.\n",
    "- `elevation`: The height (in m) above sea level for the centroid of this postcode.`\n",
    "- `localAuthority` The Local Authority governing this postcode\n",
    "- `riskLabel` The probability class for flood risk (from rivers and seas) for the postcode\n",
    "- `medianPrice` A typical house price (in £) for this postcode.\n",
    "- `historicFlooding` A binary flag indicating whether this postcode has experienced major flooding since 1949.\n",
    "\n",
    "The postcode format in the file uses numbers and capital letters, and has a single space in the middle separating the district from the sector/unit label. This should be treated as the canonical format for postcodes in this exercise (and the one you should output), but it is not guaranteed that all postcodes you may encounter will be in this format. Consider the postcodes \"SW7 2AZ\" and \"SW1A 1AA\", a non-exhaustive list of alternative formats include\n",
    "\n",
    "```\n",
    "SW7 2AZ, SW1A 1AA\n",
    "sw7 2az, sw1a 1aa\n",
    "SW72AZ, SW1A1AA\n",
    "SW7 2AZ, SW1A1AA\n",
    "SW7  2AZ, SW1A 1AA  \n",
    "```\n",
    "\n",
    "Note that the last two version have a fixed length (of 7 or 8 characters respectively). This makes these a common format in some kinds of database.\n",
    "\n",
    "The approximate probabilities of flooding for the ten classes (in terms of the likelihood of at least one event in a given year) can be assumed to be:\n",
    "\n",
    "| Class | Flood event|\n",
    "|:-----:| :---------:|\n",
    "| 10  | 5% |\n",
    "| 9   | 4% |\n",
    "| 8   | 3% |\n",
    "| 7   | 2%|\n",
    "| 6   | 1.5% |\n",
    "| 5   | 1% |\n",
    "| 4   | 0.5% |\n",
    "| 3 |  0.3% |\n",
    "| 2 | 0.2% |\n",
    "| 1 | 0.1% |\n",
    "\n",
    "So the lowest risk class expects one event in 1,000 years (or longer) and the highest risk class expects one event in 20 years (or sooner).\n",
    "\n",
    "The `postcodes_unlabelled.csv` file in the `\\flood_tool/resources` directory provides an example of the input format to expect for the raw unlabelled data for which you must make predictions. This shares its columns with the first 6 of the `postcodes_labelled.csv` file columns, but doesn't have Local Authority information, , a risk class, house price data, or information on historic flooding.\n",
    "\n",
    "The `sector_data.csv` file contains information on the number of people (the headcount) and  households in each postcode at the sector level, as well as the number of postcode units in each sector. This is a component of the impact factors involved in a flooding event.\n",
    "\n",
    "The `district_data.csv` file contains information on the number of pets in each postcode. Additional similiar data (or similar data at the sector level)\n",
    "can be added if it will improve the quality of your predictions.\n",
    "\n",
    "#### Rain, river and tidal data\n",
    "\n",
    "The `typical_day.csv` and `wet_day.csv` files provide examples of UK rainfall information, tide and river level taken from UK Environment Agency data. The columns are\n",
    "\n",
    "- `dateTime` The time for the reference.\n",
    "- `stationReference` The short code for the station\n",
    "- `parameter` The property being measured\n",
    "- `qualifier` Addditonal information on the measurement\n",
    "- `unitName` The unit of measurement, either millimeters (`mm`) for rain data or meters above a notional stage depth (`mASD`) for river data\n",
    "- `value` The actual measurement.\n",
    "\n",
    "The rainfall data is primarily from tipping bucket rain gauges, which capture the height of the water column which has fallen at a given location over the 15 minute measurement period. River data is the instantaneous height of the river, with 0m being a \"standard\" height for the measurement site, and tidal data is with reference to the long term mean sea level at Newlyn.\n",
    "\n",
    "As a point of reference, one typical scale for rainfall is\n",
    "\n",
    "| rainfall | classifier |\n",
    "|:--------:|:----------:|\n",
    "| less than 2 mm per hour  | slight |\n",
    "| 2mm to 4 mm per hour | moderate |\n",
    "| 4mm to 50 mm per hour | heavy |\n",
    "| more than 50mm per hour | violent |\n",
    "\n",
    "although for flood risk both intensity and total quantity are factors. River levels vary naturally, but significant changes in water level and high existing water levels are both significant risk factors.\n",
    "\n",
    "The `stations.csv` file contains additional information on the stations reporting data in the previous two files, namely the station name, latitude and longitude, as well as maximums, minimums and 95% data limits for the river stage measurements. More information is available via the Environment Agency API at a URI in the form\n",
    "\n",
    "```\n",
    "https://environment.data.gov.uk/flood-monitoring/id/stations/{stationReference}\n",
    "```\n",
    "\n",
    "### Definition of risk\n",
    "\n",
    "For this project flood risk is defined by combining both probability of a flooding event and the impact of an event (for which property value is a proxy). You may use a risk score defined as \n",
    "\n",
    "$$ R := 0.05 \\times (\\textrm{total property value}) \\times(\\textrm{flood probability}) $$\n",
    "\n",
    "Here 0.05 is an (arbitrary) estimate of the value lost when a flood affects a property. Potential additional considerations are the number of households impacted and the extent of the local area in which flooding appears likely.\n"
   ]
  },
  {
   "cell_type": "markdown",
   "metadata": {
    "slideshow": {
     "slide_type": "slide"
    }
   },
   "source": [
    "## Challenge\n",
    "\n",
    "Your task is to develop a Python program with two main features: \n",
    "\n",
    "1. The ability to clasify flood risk for UK postcodes & locations based on a subset of labelled data.\n",
    "2. The ability to visualize and analyse rainfall data in conjunction with the above tool to present risk information to the user.\n",
    "\n",
    "In the following, we describe the functionality that we would like you to incorporate into these features. \n",
    "\n",
    "### Risk Tool\n",
    "\n",
    "#### Core functionality\n",
    "\n",
    "Your tool must:\n",
    "\n",
    "2. Provide at least one classifier/regression for postcodes in England into a ten class flood probability scale based on provided labelled samples.\n",
    "3. Provide a regression tool for median house price for postcodes in England, given sampled data.\n",
    "4. Provide a classifier for historic flooding for postcodes in England, given labelled sampled data.\n",
    "4. Provide a regression tool & a classifier taking in an arbitrary location and predicting the Local Authority and flood risk.\n",
    "4. Calculate a predicted risk for input postcodes.\n",
    "\n",
    "Class method interfaces for this core functionality has been specified in the skeleton `flood_tool` package. These core intefaces will be used during the automated scoring run during the week, and should only be updated if requested by an instructor.\n"
   ]
  },
  {
   "cell_type": "markdown",
   "metadata": {
    "slideshow": {
     "slide_type": "slide"
    }
   },
   "source": [
    "#### Additional functionality\n",
    "\n",
    "You can also develop a simple method for a user to interact with your tool (e.g., jupyter notebook, command-line arguments or example python scripts) and document its usage appropriately.\n"
   ]
  },
  {
   "cell_type": "markdown",
   "metadata": {},
   "source": [
    "### Data visualiser\n",
    "\n",
    "#### Core functionality\n",
    "\n",
    "Your visualiser must present the information required for the previous section. It should also use rainfall and river data, in the format provided in the example .csv files (and if you choose, via the API) to indicate potential areas at risk (i.e with rainfall, river levels or tides significantly above normal), as well as the potential impact of a flooding event.\n",
    "\n",
    "#### Additional functionality\n",
    "\n",
    "You may extend your visualiser in any appropriate direction (if you're unsure, please consult with an instructor). Some potential directions include:\n",
    "1. Adding the ability to interact with live rain data (you must still have an offline mode)\n",
    "2. Adding additional data sources\n"
   ]
  },
  {
   "cell_type": "markdown",
   "metadata": {
    "slideshow": {
     "slide_type": "slide"
    }
   },
   "source": [
    "## Assessment\n",
    "\n",
    "The **deadline** for software submission is **Friday 24th November, 12:00 pm (Noon) GMT**.\n",
    "\n",
    "### Software (70 marks)\n",
    "\n",
    "Your software will be assessed primarily on functionality (**30 marks**), performance (**20 marks**) and sustainability (**20 marks**). Here sustainability can be interpretted as how easy it would be for a new group of students to maintain or extend your repository.\n",
    "\n",
    "Functionality (**30 marks**): Your software will be scored, partially based on its ability to perform predictions on unseen training and test data, as well as how simple it would be to include additional data. These will:\n",
    "\n",
    "  1. Score your classification of flood probabilities, using an approach based on the metric described below.\n",
    "  2. Score your regression routines for median house prices for UK postcodes, using an approach based on the root mean square error.\n",
    "  3. Score your classification of historic flooding, using an approach based on the recall and precision of your classifier (i.e. the F1 score).\n",
    "  4. Score your classification of the correct local authority for a given location, using an approach based on the accuracy of your classifier.\n",
    "\n",
    "Indicative scores for the automated parts of the functionality and performance will be computed for these tests at two or three points during the week of the project. Note that the marks for Functionality and Performance will be based on these scores (i.e., higher score implies higher mark), but not necessarily in an exact or linear mapping.\n",
    "\n",
    "||1|2|3|4|5|6|7|8|9|10\n",
    "|:-:|:-:|:-:|:-:|:-:|:-:|:-:|:-:|:-:|:-:|:-:|\n",
    "|1|100| 80| 60| 60| 30| 0| -30| -600| -1800| -2400|\n",
    "|2|80| 100| 80| 90| 60| 30| 0| -300| -1200| -1800|\n",
    "|3|60| 80| 100| 120| 90| 60| 30| 0|  -600| -1200|\n",
    "|4|40| 60| 80|  150| 120| 90| 60| 300| 0|-600|\n",
    "|5|20| 40| 60| 120| 150| 120| 90| 600| 600| 0|\n",
    "|6|0| 20| 40| 90| 120| 150| 120| 900| 1200| 600|\n",
    "|7|-20| 0| 20| 60| 90| 120| 150| 1200| 1800| 1200|\n",
    "|8|-40| -20| 0| 30| 60| 90| 120| 1500| 2400| 1800|\n",
    "|9|-60| -40| -20| 0| 30| 60| 90| 1200| 3000| 2400|\n",
    "|10|-80| -60| -40| -30| 0| 30| 60| 900| 2400| 3000|\n",
    "\n",
    "The visualiser functionality will be assessed manually at the end of the week, and will be scored based on the following criteria:\n",
    "   - The ability to visualise/analyze the data provided in the sample files in a meaningful way.\n",
    "   - The ability to visualise/use the data provided in the sample files in conjunction with the flood risk tool.\n",
    "   - The ability to visualise/analyse live data returned through your tool (if you choose to implement this).\n",
    "\n",
    "\n",
    "Sustainability (**20 marks**): As with all software projects, you should employ all the elements of best practice in software development that you have learned so far. A GitHub repository will be created for your project to host your software. The quality and sustainability of your software and its documentation will be assessed based on your final repository and how it evolves during the week. Specific attention will be given to the following elements:\n",
    "\n",
    "1. Installation and usage instructions\n",
    "2. Documentation (in HTML / PDF format). Note that a template SPHINX documentation framework has been provided for you as a starting point for your documentation.\n",
    "3. Coding style\n",
    "4. Quality and coverage of automatic testing framework\n",
    "5. General repository usage\n",
    "6. Licensing\n",
    "\n",
    "Please refer to the module handbook for more information about the assessment of software quality."
   ]
  },
  {
   "cell_type": "markdown",
   "metadata": {
    "collapsed": true,
    "slideshow": {
     "slide_type": "slide"
    }
   },
   "source": [
    "### Presentation & One page Flyer (20 marks)\n",
    "\n",
    "Your project will also be assessed on the basis of a one page report & 15-minute video presentation that you must upload to your assigned group channel on Teams before the deadline of **Friday 24th November, 4:00 pm GMT**.\n",
    "\n",
    "#### Report\n",
    "\n",
    "Your report should be up to 1 page of text (1,800 characters) in no less than 11pt text, along with up to 4 additional images (no more than 3 pages in total) It should be uploaded in .pdf form to your final repository, with the title `report.pdf`. You will not be penalised if your report is shorter than these limits, providing it covers the required details. You can use any software you wish to produce it.\n",
    "\n",
    "The report should cover the following questions\n",
    "\n",
    "1. What regression/classification method(s) did you use. Include technical details and/or references. Which methods did you investigate & reject?\n",
    "2. Which features in the data did you find were important for your regressions? Which were unimportant? Would it be worthwhile including historic flooding data in the labelled model?\n",
    "3. Demonstrate your data vizualization/analysis software applied to the \"wet day\" data, or to another significant event.\n",
    "\n",
    "#### Presentation\n",
    "\n",
    "Your presentation should be approximately 15 minutes long, and cover broadly similar details to the report (you can include some information in one but not the other). All team members should aim to contribute to the presentation, but not all need to be recorded on camera/microphone.\n",
    "\n",
    "You can record your presentation in any software that you like. If in doubt, MS Teams will work reasonably, and is readily available to you.\n"
   ]
  },
  {
   "cell_type": "markdown",
   "metadata": {
    "slideshow": {
     "slide_type": "slide"
    }
   },
   "source": [
    "### Teamwork (peer assessment; 10 marks)\n",
    "\n",
    "After the presentations, you will complete a self-evaluation of your group's performance. This will inform the teamwork component of your mark. Please refer to the module guidelines for more information about the assessment of teamwork."
   ]
  },
  {
   "cell_type": "markdown",
   "metadata": {
    "slideshow": {
     "slide_type": "slide"
    }
   },
   "source": [
    "## Technical requirements\n",
    "\n",
    "* You should use the assigned GitHub repository exclusively for your project\n",
    "* Your software must be written to work correctly in Python 3.11\n",
    "* You are free to import anything from the [standard python libraries](https://docs.python.org/3.11/library/index.html) as well as `numpy`, `matplotlib`, `pandas`, `scipy`, `mpltools`, `sklearn`, and `sympy` (see the `requirements.txt` for the full list of preapproved packages already in the environment. Packages from the standard library, e.g the `os` module, don't need to be listed). You should submit a request for any other packages you wish to use. Requests to use alternative packages should be submitted by 12 noon GMT on Thursday, and will be announced to all groups.\n",
    "* You have been given some geographic mapping examples using [folium](https://python-visualization.github.io/folium/latest/), but can request to use an alternative mapping package if you've used it previously. Requests should respect the 12 noon GMT deadline on Thursday mentioned above.\n",
    "* You are not allowed to import other third-party Python packages without authorization (if in doubt, please query with the one of the instructors)\n",
    "* You can assume that the users of your software will have `pytest`` installed, so this does not need to be part of your pre-requisites.\n",
    "* You should use GitHub Actions for any automated testing that you decide to implement. Example workflows are given in your template repository.\n",
    "* You do not need to make a Graphical User Interface for your software (although you can if you choose): the program can designed to run via the command line as a stand alone tool, interatively in a Python/IPython environment, or via examples in a notebook."
   ]
  },
  {
   "cell_type": "markdown",
   "metadata": {},
   "source": []
  }
 ],
 "metadata": {
  "celltoolbar": "Slideshow",
  "hide_input": false,
  "kernelspec": {
   "display_name": "Python 3 (ipykernel)",
   "language": "python",
   "name": "python3"
  },
  "language_info": {
   "codemirror_mode": {
    "name": "ipython",
    "version": 3
   },
   "file_extension": ".py",
   "mimetype": "text/x-python",
   "name": "python",
   "nbconvert_exporter": "python",
   "pygments_lexer": "ipython3",
   "version": "3.11.0"
  },
  "toc": {
   "base_numbering": 1,
   "nav_menu": {},
   "number_sections": true,
   "sideBar": true,
   "skip_h1_title": false,
   "title_cell": "Table of Contents",
   "title_sidebar": "Contents",
   "toc_cell": false,
   "toc_position": {},
   "toc_section_display": true,
   "toc_window_display": false
  },
  "vscode": {
   "interpreter": {
    "hash": "0a54084e6b208ee8d1ce3989ffc20924477a5f55f5a43e22e699a6741623861e"
   }
  }
 },
 "nbformat": 4,
 "nbformat_minor": 1
}

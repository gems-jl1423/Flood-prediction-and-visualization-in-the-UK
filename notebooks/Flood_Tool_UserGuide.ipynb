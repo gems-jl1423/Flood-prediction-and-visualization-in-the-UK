{
 "cells": [
  {
   "cell_type": "markdown",
   "id": "1326817a-a91f-4db8-952e-daa4cffda83c",
   "metadata": {},
   "source": [
    "<div style=\"text-align: center;\">\n",
    "  <img src=\"images/flood_tool_logo.png\" alt=\"Flood Tool Logo\" width=80\"/>\n",
    "</div>"
   ]
  },
  {
   "cell_type": "markdown",
   "id": "9655ba18-c696-4df1-97db-9d0b14977fe0",
   "metadata": {},
   "source": [
    "<div style=\"text-align: center;\">\n",
    "    <img src=\"images/flood_tool_banner.png\" alt=\"Flood Tool Banner\" width=\"250\"/>\n",
    "</div>"
   ]
  },
  {
   "cell_type": "markdown",
   "id": "fb478840-5e76-4168-9bda-b750e2018963",
   "metadata": {},
   "source": [
    "# User Guide\n",
    "\n",
    "This document gives a brief overview on how to interact with the flood_tool package. Users are free to save this locally and experiment with the functions"
   ]
  },
  {
   "cell_type": "code",
   "execution_count": 3,
   "id": "3aa5305a-1a9f-4538-a50c-cf927b38bb1e",
   "metadata": {},
   "outputs": [
    {
     "name": "stdout",
     "output_type": "stream",
     "text": [
      "The autoreload extension is already loaded. To reload it, use:\n",
      "  %reload_ext autoreload\n"
     ]
    }
   ],
   "source": [
    "%load_ext autoreload\n",
    "# Set autoreload to reload all modules (1: Reload all modules, 2: Reload all modules and dependencies)\n",
    "%autoreload 2"
   ]
  },
  {
   "cell_type": "markdown",
   "id": "393e0676",
   "metadata": {},
   "source": [
    "## Import the class and necessary library."
   ]
  },
  {
   "cell_type": "code",
   "execution_count": 4,
   "id": "c679b78f-4b8c-4f7f-a72b-1fa1a4dea975",
   "metadata": {},
   "outputs": [],
   "source": [
    "import sys\n",
    "sys.path.append('..')\n",
    "import flood_tool as ft\n",
    "from flood_tool.tool import*\n",
    "from flood_tool.geo import * "
   ]
  },
  {
   "cell_type": "markdown",
   "id": "45a9657e",
   "metadata": {},
   "source": [
    "# Main functions"
   ]
  },
  {
   "cell_type": "markdown",
   "id": "8d444575",
   "metadata": {},
   "source": [
    "## Core function, please provide data here. If no data is provided, the database that comes with the package will be used."
   ]
  },
  {
   "cell_type": "code",
   "execution_count": 5,
   "id": "61205610-96e9-4330-bea8-7bcaad8e94db",
   "metadata": {},
   "outputs": [],
   "source": [
    "tool = Tool()"
   ]
  },
  {
   "cell_type": "markdown",
   "id": "db8c3eb1",
   "metadata": {},
   "source": [
    "* Inputs should follow below:  \n",
    ">unlabelled_unit_data = \"path/to/unlabelled/data.csv\"  \n",
    "    labelled_unit_data = \"path/to/labelled/data.csv\"  \n",
    "    sector_data = \"path/to/sector/data.csv\"  \n",
    "    district_data = \"path/to/district/data.csv\"  \n",
    "    stations = \"path/to/stations/data.csv\"  \n",
    "    additional_data={}  \n"
   ]
  },
  {
   "cell_type": "markdown",
   "id": "45d404e6",
   "metadata": {},
   "source": [
    "# To check whether the input data is correct please use the following once you provide data:"
   ]
  },
  {
   "cell_type": "markdown",
   "id": "fc355a11",
   "metadata": {},
   "source": [
    "## Check Labelled Data"
   ]
  },
  {
   "cell_type": "code",
   "execution_count": 4,
   "id": "0c84f993",
   "metadata": {},
   "outputs": [
    {
     "data": {
      "text/html": [
       "<div>\n",
       "<style scoped>\n",
       "    .dataframe tbody tr th:only-of-type {\n",
       "        vertical-align: middle;\n",
       "    }\n",
       "\n",
       "    .dataframe tbody tr th {\n",
       "        vertical-align: top;\n",
       "    }\n",
       "\n",
       "    .dataframe thead th {\n",
       "        text-align: right;\n",
       "    }\n",
       "</style>\n",
       "<table border=\"1\" class=\"dataframe\">\n",
       "  <thead>\n",
       "    <tr style=\"text-align: right;\">\n",
       "      <th></th>\n",
       "      <th>postcode</th>\n",
       "      <th>easting</th>\n",
       "      <th>northing</th>\n",
       "      <th>soilType</th>\n",
       "      <th>elevation</th>\n",
       "      <th>localAuthority</th>\n",
       "      <th>riskLabel</th>\n",
       "      <th>medianPrice</th>\n",
       "      <th>historicallyFlooded</th>\n",
       "    </tr>\n",
       "  </thead>\n",
       "  <tbody>\n",
       "    <tr>\n",
       "      <th>0</th>\n",
       "      <td>OL9 7NS</td>\n",
       "      <td>390978</td>\n",
       "      <td>403269</td>\n",
       "      <td>Unsurveyed/Urban</td>\n",
       "      <td>130</td>\n",
       "      <td>Oldham</td>\n",
       "      <td>1</td>\n",
       "      <td>119100.0</td>\n",
       "      <td>False</td>\n",
       "    </tr>\n",
       "    <tr>\n",
       "      <th>1</th>\n",
       "      <td>WV13 2LR</td>\n",
       "      <td>396607</td>\n",
       "      <td>298083</td>\n",
       "      <td>Unsurveyed/Urban</td>\n",
       "      <td>130</td>\n",
       "      <td>Walsall</td>\n",
       "      <td>1</td>\n",
       "      <td>84200.0</td>\n",
       "      <td>False</td>\n",
       "    </tr>\n",
       "    <tr>\n",
       "      <th>2</th>\n",
       "      <td>LS12 1LZ</td>\n",
       "      <td>427859</td>\n",
       "      <td>432937</td>\n",
       "      <td>Unsurveyed/Urban</td>\n",
       "      <td>60</td>\n",
       "      <td>Leeds</td>\n",
       "      <td>1</td>\n",
       "      <td>134900.0</td>\n",
       "      <td>False</td>\n",
       "    </tr>\n",
       "    <tr>\n",
       "      <th>3</th>\n",
       "      <td>SK15 1TS</td>\n",
       "      <td>395560</td>\n",
       "      <td>397900</td>\n",
       "      <td>Unsurveyed/Urban</td>\n",
       "      <td>120</td>\n",
       "      <td>Tameside</td>\n",
       "      <td>1</td>\n",
       "      <td>170200.0</td>\n",
       "      <td>False</td>\n",
       "    </tr>\n",
       "    <tr>\n",
       "      <th>4</th>\n",
       "      <td>TS17 9NN</td>\n",
       "      <td>445771</td>\n",
       "      <td>515362</td>\n",
       "      <td>Unsurveyed/Urban</td>\n",
       "      <td>20</td>\n",
       "      <td>Stockton-on-Tees</td>\n",
       "      <td>1</td>\n",
       "      <td>190600.0</td>\n",
       "      <td>False</td>\n",
       "    </tr>\n",
       "  </tbody>\n",
       "</table>\n",
       "</div>"
      ],
      "text/plain": [
       "   postcode  easting  northing          soilType  elevation    localAuthority  \\\n",
       "0   OL9 7NS   390978    403269  Unsurveyed/Urban        130            Oldham   \n",
       "1  WV13 2LR   396607    298083  Unsurveyed/Urban        130           Walsall   \n",
       "2  LS12 1LZ   427859    432937  Unsurveyed/Urban         60             Leeds   \n",
       "3  SK15 1TS   395560    397900  Unsurveyed/Urban        120          Tameside   \n",
       "4  TS17 9NN   445771    515362  Unsurveyed/Urban         20  Stockton-on-Tees   \n",
       "\n",
       "   riskLabel  medianPrice  historicallyFlooded  \n",
       "0          1     119100.0                False  \n",
       "1          1      84200.0                False  \n",
       "2          1     134900.0                False  \n",
       "3          1     170200.0                False  \n",
       "4          1     190600.0                False  "
      ]
     },
     "execution_count": 4,
     "metadata": {},
     "output_type": "execute_result"
    }
   ],
   "source": [
    "tool._labeldb.head()"
   ]
  },
  {
   "cell_type": "markdown",
   "id": "4a4700e7",
   "metadata": {},
   "source": [
    "## Check Unlabelled Data"
   ]
  },
  {
   "cell_type": "code",
   "execution_count": 5,
   "id": "35f02823",
   "metadata": {},
   "outputs": [
    {
     "data": {
      "text/html": [
       "<div>\n",
       "<style scoped>\n",
       "    .dataframe tbody tr th:only-of-type {\n",
       "        vertical-align: middle;\n",
       "    }\n",
       "\n",
       "    .dataframe tbody tr th {\n",
       "        vertical-align: top;\n",
       "    }\n",
       "\n",
       "    .dataframe thead th {\n",
       "        text-align: right;\n",
       "    }\n",
       "</style>\n",
       "<table border=\"1\" class=\"dataframe\">\n",
       "  <thead>\n",
       "    <tr style=\"text-align: right;\">\n",
       "      <th></th>\n",
       "      <th>postcode</th>\n",
       "      <th>easting</th>\n",
       "      <th>northing</th>\n",
       "      <th>soilType</th>\n",
       "      <th>elevation</th>\n",
       "    </tr>\n",
       "  </thead>\n",
       "  <tbody>\n",
       "    <tr>\n",
       "      <th>0</th>\n",
       "      <td>M34 7QL</td>\n",
       "      <td>393470</td>\n",
       "      <td>394371</td>\n",
       "      <td>Unsurveyed/Urban</td>\n",
       "      <td>110</td>\n",
       "    </tr>\n",
       "    <tr>\n",
       "      <th>1</th>\n",
       "      <td>OL4 3NQ</td>\n",
       "      <td>395420</td>\n",
       "      <td>405669</td>\n",
       "      <td>Unsurveyed/Urban</td>\n",
       "      <td>210</td>\n",
       "    </tr>\n",
       "    <tr>\n",
       "      <th>2</th>\n",
       "      <td>B36 8TE</td>\n",
       "      <td>411900</td>\n",
       "      <td>289400</td>\n",
       "      <td>Unsurveyed/Urban</td>\n",
       "      <td>90</td>\n",
       "    </tr>\n",
       "    <tr>\n",
       "      <th>3</th>\n",
       "      <td>NE16 3AT</td>\n",
       "      <td>420400</td>\n",
       "      <td>562300</td>\n",
       "      <td>Unsurveyed/Urban</td>\n",
       "      <td>10</td>\n",
       "    </tr>\n",
       "    <tr>\n",
       "      <th>4</th>\n",
       "      <td>WS10 8DE</td>\n",
       "      <td>397726</td>\n",
       "      <td>296656</td>\n",
       "      <td>Unsurveyed/Urban</td>\n",
       "      <td>140</td>\n",
       "    </tr>\n",
       "  </tbody>\n",
       "</table>\n",
       "</div>"
      ],
      "text/plain": [
       "   postcode  easting  northing          soilType  elevation\n",
       "0   M34 7QL   393470    394371  Unsurveyed/Urban        110\n",
       "1   OL4 3NQ   395420    405669  Unsurveyed/Urban        210\n",
       "2   B36 8TE   411900    289400  Unsurveyed/Urban         90\n",
       "3  NE16 3AT   420400    562300  Unsurveyed/Urban         10\n",
       "4  WS10 8DE   397726    296656  Unsurveyed/Urban        140"
      ]
     },
     "execution_count": 5,
     "metadata": {},
     "output_type": "execute_result"
    }
   ],
   "source": [
    "tool._postcodedb.head()"
   ]
  },
  {
   "cell_type": "markdown",
   "id": "d03b942d",
   "metadata": {},
   "source": [
    "## Check Sector Data"
   ]
  },
  {
   "cell_type": "code",
   "execution_count": 6,
   "id": "60f6a72b",
   "metadata": {},
   "outputs": [
    {
     "data": {
      "text/html": [
       "<div>\n",
       "<style scoped>\n",
       "    .dataframe tbody tr th:only-of-type {\n",
       "        vertical-align: middle;\n",
       "    }\n",
       "\n",
       "    .dataframe tbody tr th {\n",
       "        vertical-align: top;\n",
       "    }\n",
       "\n",
       "    .dataframe thead th {\n",
       "        text-align: right;\n",
       "    }\n",
       "</style>\n",
       "<table border=\"1\" class=\"dataframe\">\n",
       "  <thead>\n",
       "    <tr style=\"text-align: right;\">\n",
       "      <th></th>\n",
       "      <th>postcodeSector</th>\n",
       "      <th>households</th>\n",
       "      <th>numberOfPostcodeUnits</th>\n",
       "      <th>headcount</th>\n",
       "    </tr>\n",
       "  </thead>\n",
       "  <tbody>\n",
       "    <tr>\n",
       "      <th>0</th>\n",
       "      <td>AL1  1</td>\n",
       "      <td>2546</td>\n",
       "      <td>311</td>\n",
       "      <td>6080</td>\n",
       "    </tr>\n",
       "    <tr>\n",
       "      <th>1</th>\n",
       "      <td>AL1  2</td>\n",
       "      <td>2642</td>\n",
       "      <td>236</td>\n",
       "      <td>6942</td>\n",
       "    </tr>\n",
       "    <tr>\n",
       "      <th>2</th>\n",
       "      <td>AL1  3</td>\n",
       "      <td>2272</td>\n",
       "      <td>388</td>\n",
       "      <td>5821</td>\n",
       "    </tr>\n",
       "    <tr>\n",
       "      <th>3</th>\n",
       "      <td>AL1  4</td>\n",
       "      <td>3707</td>\n",
       "      <td>339</td>\n",
       "      <td>9635</td>\n",
       "    </tr>\n",
       "    <tr>\n",
       "      <th>4</th>\n",
       "      <td>AL1  5</td>\n",
       "      <td>4406</td>\n",
       "      <td>347</td>\n",
       "      <td>10560</td>\n",
       "    </tr>\n",
       "  </tbody>\n",
       "</table>\n",
       "</div>"
      ],
      "text/plain": [
       "  postcodeSector  households  numberOfPostcodeUnits  headcount\n",
       "0         AL1  1        2546                    311       6080\n",
       "1         AL1  2        2642                    236       6942\n",
       "2         AL1  3        2272                    388       5821\n",
       "3         AL1  4        3707                    339       9635\n",
       "4         AL1  5        4406                    347      10560"
      ]
     },
     "execution_count": 6,
     "metadata": {},
     "output_type": "execute_result"
    }
   ],
   "source": [
    "tool._population.head()"
   ]
  },
  {
   "cell_type": "markdown",
   "id": "7ec4d00a",
   "metadata": {},
   "source": [
    "## Check District Data"
   ]
  },
  {
   "cell_type": "code",
   "execution_count": 7,
   "id": "e9cba5e0",
   "metadata": {},
   "outputs": [
    {
     "data": {
      "text/html": [
       "<div>\n",
       "<style scoped>\n",
       "    .dataframe tbody tr th:only-of-type {\n",
       "        vertical-align: middle;\n",
       "    }\n",
       "\n",
       "    .dataframe tbody tr th {\n",
       "        vertical-align: top;\n",
       "    }\n",
       "\n",
       "    .dataframe thead th {\n",
       "        text-align: right;\n",
       "    }\n",
       "</style>\n",
       "<table border=\"1\" class=\"dataframe\">\n",
       "  <thead>\n",
       "    <tr style=\"text-align: right;\">\n",
       "      <th></th>\n",
       "      <th>postcodeDistrict</th>\n",
       "      <th>catsPerHousehold</th>\n",
       "      <th>dogsPerHousehold</th>\n",
       "    </tr>\n",
       "  </thead>\n",
       "  <tbody>\n",
       "    <tr>\n",
       "      <th>0</th>\n",
       "      <td>AB10</td>\n",
       "      <td>0.164463</td>\n",
       "      <td>0.188610</td>\n",
       "    </tr>\n",
       "    <tr>\n",
       "      <th>1</th>\n",
       "      <td>AB11</td>\n",
       "      <td>0.206145</td>\n",
       "      <td>0.236411</td>\n",
       "    </tr>\n",
       "    <tr>\n",
       "      <th>2</th>\n",
       "      <td>AB12</td>\n",
       "      <td>0.300306</td>\n",
       "      <td>0.344397</td>\n",
       "    </tr>\n",
       "    <tr>\n",
       "      <th>3</th>\n",
       "      <td>AB13</td>\n",
       "      <td>1.145815</td>\n",
       "      <td>1.314045</td>\n",
       "    </tr>\n",
       "    <tr>\n",
       "      <th>4</th>\n",
       "      <td>AB14</td>\n",
       "      <td>1.008732</td>\n",
       "      <td>1.156835</td>\n",
       "    </tr>\n",
       "  </tbody>\n",
       "</table>\n",
       "</div>"
      ],
      "text/plain": [
       "  postcodeDistrict  catsPerHousehold  dogsPerHousehold\n",
       "0             AB10          0.164463          0.188610\n",
       "1             AB11          0.206145          0.236411\n",
       "2             AB12          0.300306          0.344397\n",
       "3             AB13          1.145815          1.314045\n",
       "4             AB14          1.008732          1.156835"
      ]
     },
     "execution_count": 7,
     "metadata": {},
     "output_type": "execute_result"
    }
   ],
   "source": [
    "tool._pets.head()"
   ]
  },
  {
   "cell_type": "markdown",
   "id": "55905ea9",
   "metadata": {},
   "source": [
    "## Check Stations Data"
   ]
  },
  {
   "cell_type": "code",
   "execution_count": 8,
   "id": "6a203dc3",
   "metadata": {},
   "outputs": [
    {
     "data": {
      "text/html": [
       "<div>\n",
       "<style scoped>\n",
       "    .dataframe tbody tr th:only-of-type {\n",
       "        vertical-align: middle;\n",
       "    }\n",
       "\n",
       "    .dataframe tbody tr th {\n",
       "        vertical-align: top;\n",
       "    }\n",
       "\n",
       "    .dataframe thead th {\n",
       "        text-align: right;\n",
       "    }\n",
       "</style>\n",
       "<table border=\"1\" class=\"dataframe\">\n",
       "  <thead>\n",
       "    <tr style=\"text-align: right;\">\n",
       "      <th></th>\n",
       "      <th>stationReference</th>\n",
       "      <th>stationName</th>\n",
       "      <th>latitude</th>\n",
       "      <th>longitude</th>\n",
       "      <th>maxOnRecord</th>\n",
       "      <th>minOnRecord</th>\n",
       "      <th>typicalRangeHigh</th>\n",
       "      <th>typicalRangeLow</th>\n",
       "    </tr>\n",
       "  </thead>\n",
       "  <tbody>\n",
       "    <tr>\n",
       "      <th>0</th>\n",
       "      <td>000008</td>\n",
       "      <td>Rainfall station</td>\n",
       "      <td>53.480556</td>\n",
       "      <td>-1.441674</td>\n",
       "      <td>NaN</td>\n",
       "      <td>NaN</td>\n",
       "      <td>NaN</td>\n",
       "      <td>NaN</td>\n",
       "    </tr>\n",
       "    <tr>\n",
       "      <th>1</th>\n",
       "      <td>000028</td>\n",
       "      <td>Rainfall station</td>\n",
       "      <td>53.500289</td>\n",
       "      <td>-1.673575</td>\n",
       "      <td>NaN</td>\n",
       "      <td>NaN</td>\n",
       "      <td>NaN</td>\n",
       "      <td>NaN</td>\n",
       "    </tr>\n",
       "    <tr>\n",
       "      <th>2</th>\n",
       "      <td>000075TP</td>\n",
       "      <td>Rainfall station</td>\n",
       "      <td>51.084022</td>\n",
       "      <td>-0.214597</td>\n",
       "      <td>NaN</td>\n",
       "      <td>NaN</td>\n",
       "      <td>NaN</td>\n",
       "      <td>NaN</td>\n",
       "    </tr>\n",
       "    <tr>\n",
       "      <th>3</th>\n",
       "      <td>000076TP</td>\n",
       "      <td>Rainfall station</td>\n",
       "      <td>51.701508</td>\n",
       "      <td>-0.747539</td>\n",
       "      <td>NaN</td>\n",
       "      <td>NaN</td>\n",
       "      <td>NaN</td>\n",
       "      <td>NaN</td>\n",
       "    </tr>\n",
       "    <tr>\n",
       "      <th>4</th>\n",
       "      <td>000180TP</td>\n",
       "      <td>Rainfall station</td>\n",
       "      <td>51.618838</td>\n",
       "      <td>0.173236</td>\n",
       "      <td>NaN</td>\n",
       "      <td>NaN</td>\n",
       "      <td>NaN</td>\n",
       "      <td>NaN</td>\n",
       "    </tr>\n",
       "  </tbody>\n",
       "</table>\n",
       "</div>"
      ],
      "text/plain": [
       "  stationReference       stationName   latitude  longitude  maxOnRecord  \\\n",
       "0           000008  Rainfall station  53.480556  -1.441674          NaN   \n",
       "1           000028  Rainfall station  53.500289  -1.673575          NaN   \n",
       "2         000075TP  Rainfall station  51.084022  -0.214597          NaN   \n",
       "3         000076TP  Rainfall station  51.701508  -0.747539          NaN   \n",
       "4         000180TP  Rainfall station  51.618838   0.173236          NaN   \n",
       "\n",
       "   minOnRecord  typicalRangeHigh  typicalRangeLow  \n",
       "0          NaN               NaN              NaN  \n",
       "1          NaN               NaN              NaN  \n",
       "2          NaN               NaN              NaN  \n",
       "3          NaN               NaN              NaN  \n",
       "4          NaN               NaN              NaN  "
      ]
     },
     "execution_count": 8,
     "metadata": {},
     "output_type": "execute_result"
    }
   ],
   "source": [
    "tool._stationsd.head()"
   ]
  },
  {
   "cell_type": "markdown",
   "id": "97635339",
   "metadata": {},
   "source": [
    "___"
   ]
  },
  {
   "cell_type": "markdown",
   "id": "5911423e",
   "metadata": {},
   "source": [
    "## Transfer Postcodes into OSGB36 Eastings and Northings\n",
    "Get a dataframe of OSGB36 eastings and northings from a collection of input postcodes.\n",
    "\n",
    "* The Ordnance Survey National Grid reference system (OSGB) (also known as British National Grid (BNG) is a system of geographic grid references used in Great Britain, distinct from latitude and longitude.\n",
    "\n",
    "* If input postcodes is none, it will return all the locations from unlabelled postcodes file."
   ]
  },
  {
   "cell_type": "code",
   "execution_count": 9,
   "id": "9157f8e8",
   "metadata": {},
   "outputs": [
    {
     "data": {
      "text/html": [
       "<div>\n",
       "<style scoped>\n",
       "    .dataframe tbody tr th:only-of-type {\n",
       "        vertical-align: middle;\n",
       "    }\n",
       "\n",
       "    .dataframe tbody tr th {\n",
       "        vertical-align: top;\n",
       "    }\n",
       "\n",
       "    .dataframe thead th {\n",
       "        text-align: right;\n",
       "    }\n",
       "</style>\n",
       "<table border=\"1\" class=\"dataframe\">\n",
       "  <thead>\n",
       "    <tr style=\"text-align: right;\">\n",
       "      <th></th>\n",
       "      <th>easting</th>\n",
       "      <th>northing</th>\n",
       "    </tr>\n",
       "    <tr>\n",
       "      <th>postcode</th>\n",
       "      <th></th>\n",
       "      <th></th>\n",
       "    </tr>\n",
       "  </thead>\n",
       "  <tbody>\n",
       "    <tr>\n",
       "      <th>M34 7QL</th>\n",
       "      <td>393470</td>\n",
       "      <td>394371</td>\n",
       "    </tr>\n",
       "  </tbody>\n",
       "</table>\n",
       "</div>"
      ],
      "text/plain": [
       "          easting  northing\n",
       "postcode                   \n",
       "M34 7QL    393470    394371"
      ]
     },
     "execution_count": 9,
     "metadata": {},
     "output_type": "execute_result"
    }
   ],
   "source": [
    "tool.lookup_easting_northing(['M34 7QL'])"
   ]
  },
  {
   "cell_type": "code",
   "execution_count": 10,
   "id": "661f26c3",
   "metadata": {},
   "outputs": [
    {
     "data": {
      "text/html": [
       "<div>\n",
       "<style scoped>\n",
       "    .dataframe tbody tr th:only-of-type {\n",
       "        vertical-align: middle;\n",
       "    }\n",
       "\n",
       "    .dataframe tbody tr th {\n",
       "        vertical-align: top;\n",
       "    }\n",
       "\n",
       "    .dataframe thead th {\n",
       "        text-align: right;\n",
       "    }\n",
       "</style>\n",
       "<table border=\"1\" class=\"dataframe\">\n",
       "  <thead>\n",
       "    <tr style=\"text-align: right;\">\n",
       "      <th></th>\n",
       "      <th>easting</th>\n",
       "      <th>northing</th>\n",
       "    </tr>\n",
       "    <tr>\n",
       "      <th>postcode</th>\n",
       "      <th></th>\n",
       "      <th></th>\n",
       "    </tr>\n",
       "  </thead>\n",
       "  <tbody>\n",
       "    <tr>\n",
       "      <th>M34 7QL</th>\n",
       "      <td>393470</td>\n",
       "      <td>394371</td>\n",
       "    </tr>\n",
       "    <tr>\n",
       "      <th>OL4 3NQ</th>\n",
       "      <td>395420</td>\n",
       "      <td>405669</td>\n",
       "    </tr>\n",
       "    <tr>\n",
       "      <th>B36 8TE</th>\n",
       "      <td>411900</td>\n",
       "      <td>289400</td>\n",
       "    </tr>\n",
       "    <tr>\n",
       "      <th>NE16 3AT</th>\n",
       "      <td>420400</td>\n",
       "      <td>562300</td>\n",
       "    </tr>\n",
       "    <tr>\n",
       "      <th>WS10 8DE</th>\n",
       "      <td>397726</td>\n",
       "      <td>296656</td>\n",
       "    </tr>\n",
       "    <tr>\n",
       "      <th>...</th>\n",
       "      <td>...</td>\n",
       "      <td>...</td>\n",
       "    </tr>\n",
       "    <tr>\n",
       "      <th>NN9 7TY</th>\n",
       "      <td>488200</td>\n",
       "      <td>264700</td>\n",
       "    </tr>\n",
       "    <tr>\n",
       "      <th>HU6 7YG</th>\n",
       "      <td>508055</td>\n",
       "      <td>434044</td>\n",
       "    </tr>\n",
       "    <tr>\n",
       "      <th>LS12 1DY</th>\n",
       "      <td>428431</td>\n",
       "      <td>432867</td>\n",
       "    </tr>\n",
       "    <tr>\n",
       "      <th>DN4 6TZ</th>\n",
       "      <td>462498</td>\n",
       "      <td>401208</td>\n",
       "    </tr>\n",
       "    <tr>\n",
       "      <th>S31 9BD</th>\n",
       "      <td>441723</td>\n",
       "      <td>378785</td>\n",
       "    </tr>\n",
       "  </tbody>\n",
       "</table>\n",
       "<p>10000 rows × 2 columns</p>\n",
       "</div>"
      ],
      "text/plain": [
       "          easting  northing\n",
       "postcode                   \n",
       "M34 7QL    393470    394371\n",
       "OL4 3NQ    395420    405669\n",
       "B36 8TE    411900    289400\n",
       "NE16 3AT   420400    562300\n",
       "WS10 8DE   397726    296656\n",
       "...           ...       ...\n",
       "NN9 7TY    488200    264700\n",
       "HU6 7YG    508055    434044\n",
       "LS12 1DY   428431    432867\n",
       "DN4 6TZ    462498    401208\n",
       "S31 9BD    441723    378785\n",
       "\n",
       "[10000 rows x 2 columns]"
      ]
     },
     "execution_count": 10,
     "metadata": {},
     "output_type": "execute_result"
    }
   ],
   "source": [
    "tool.lookup_easting_northing()"
   ]
  },
  {
   "cell_type": "markdown",
   "id": "72f6a964",
   "metadata": {},
   "source": [
    "## Transfer Postcodes into GPS Latitude and Longitude\n",
    "Get a Pandas dataframe containing GPS latitude and longitude information for a collection of of postcodes.\n",
    "* If input postcodes is none, it will __not__ return all the locations from unlabelled postcodes file.\n",
    "* If input postcodes does not present in given file, it will __not__ return any value."
   ]
  },
  {
   "cell_type": "code",
   "execution_count": 11,
   "id": "a10f57dd",
   "metadata": {},
   "outputs": [
    {
     "data": {
      "text/html": [
       "<div>\n",
       "<style scoped>\n",
       "    .dataframe tbody tr th:only-of-type {\n",
       "        vertical-align: middle;\n",
       "    }\n",
       "\n",
       "    .dataframe tbody tr th {\n",
       "        vertical-align: top;\n",
       "    }\n",
       "\n",
       "    .dataframe thead th {\n",
       "        text-align: right;\n",
       "    }\n",
       "</style>\n",
       "<table border=\"1\" class=\"dataframe\">\n",
       "  <thead>\n",
       "    <tr style=\"text-align: right;\">\n",
       "      <th></th>\n",
       "      <th>longitude</th>\n",
       "      <th>latitude</th>\n",
       "    </tr>\n",
       "    <tr>\n",
       "      <th>postcode</th>\n",
       "      <th></th>\n",
       "      <th></th>\n",
       "    </tr>\n",
       "  </thead>\n",
       "  <tbody>\n",
       "    <tr>\n",
       "      <th>M34 7QL</th>\n",
       "      <td>-2.099783</td>\n",
       "      <td>53.446064</td>\n",
       "    </tr>\n",
       "  </tbody>\n",
       "</table>\n",
       "</div>"
      ],
      "text/plain": [
       "          longitude   latitude\n",
       "postcode                      \n",
       "M34 7QL   -2.099783  53.446064"
      ]
     },
     "execution_count": 11,
     "metadata": {},
     "output_type": "execute_result"
    }
   ],
   "source": [
    "tool.lookup_lat_long(['M34 7QL'])"
   ]
  },
  {
   "cell_type": "markdown",
   "id": "a193ac38",
   "metadata": {},
   "source": [
    "___"
   ]
  },
  {
   "cell_type": "markdown",
   "id": "7967582e",
   "metadata": {},
   "source": [
    "## Predicting Flood Probaility Classification from Postcodes\n",
    "Generate series predicting flood probability classification for a collection of postcodes.  \n",
    "\n",
    "Flood risk probability classification has 1-10 classes, 10 shows highest risk.  \n",
    "* If input postcodes is none, it will return all the locations from unlabelled postcodes file.\n",
    "* If input postcodes does not present in given file, it will __not__ return any value.\n",
    "* Currently this function does not provide other models than default ('better_selection') and will be updated in future versions.\n",
    "* More information please look at README.md"
   ]
  },
  {
   "cell_type": "code",
   "execution_count": 12,
   "id": "5387adcb",
   "metadata": {},
   "outputs": [
    {
     "name": "stdout",
     "output_type": "stream",
     "text": [
      "training local_rf\n",
      "training better_selection\n"
     ]
    },
    {
     "data": {
      "text/plain": [
       "postcode\n",
       "M34 7QL    1\n",
       "Name: riskLabel, dtype: int64"
      ]
     },
     "execution_count": 12,
     "metadata": {},
     "output_type": "execute_result"
    }
   ],
   "source": [
    "tool.predict_flood_class_from_postcode(['M34 7QL'])"
   ]
  },
  {
   "cell_type": "code",
   "execution_count": 13,
   "id": "74332025",
   "metadata": {},
   "outputs": [
    {
     "name": "stdout",
     "output_type": "stream",
     "text": [
      "training local_rf\n",
      "training better_selection\n"
     ]
    },
    {
     "data": {
      "text/plain": [
       "postcode\n",
       "M34 7QL     1\n",
       "OL4 3NQ     1\n",
       "B36 8TE     1\n",
       "NE16 3AT    1\n",
       "WS10 8DE    1\n",
       "           ..\n",
       "NN9 7TY     1\n",
       "HU6 7YG     9\n",
       "LS12 1DY    1\n",
       "DN4 6TZ     1\n",
       "S31 9BD     1\n",
       "Name: riskLabel, Length: 10000, dtype: int64"
      ]
     },
     "execution_count": 13,
     "metadata": {},
     "output_type": "execute_result"
    }
   ],
   "source": [
    "tool.predict_flood_class_from_postcode()"
   ]
  },
  {
   "cell_type": "markdown",
   "id": "882a90e5",
   "metadata": {},
   "source": [
    "___"
   ]
  },
  {
   "cell_type": "markdown",
   "id": "58e27d3a",
   "metadata": {},
   "source": [
    "## Predicting Flood Probaility Classification from OSGB36\n",
    "\n",
    "Generate series predicting flood probability classification for a collection of locations given as eastings and northings on the Ordnance Survey National Grid (OSGB36) datum.\n",
    "\n",
    "* If input is none, it will return all the locations from unlabelled postcodes file.\n",
    "* Currently this function does not provide other models than default ('better_selection') and will be updated in future versions.\n",
    "* More information please look at README.md"
   ]
  },
  {
   "cell_type": "code",
   "execution_count": 14,
   "id": "cf1d7c6c",
   "metadata": {},
   "outputs": [
    {
     "name": "stdout",
     "output_type": "stream",
     "text": [
      "training better_selection\n",
      "training local_rf\n"
     ]
    },
    {
     "data": {
      "text/plain": [
       "Easting  Northing\n",
       "393470   394371      1\n",
       "Name: riskLabel, dtype: int64"
      ]
     },
     "execution_count": 14,
     "metadata": {},
     "output_type": "execute_result"
    }
   ],
   "source": [
    "tool.predict_flood_class_from_OSGB36_location([393470],[394371])"
   ]
  },
  {
   "cell_type": "code",
   "execution_count": 15,
   "id": "018aef47",
   "metadata": {},
   "outputs": [
    {
     "name": "stdout",
     "output_type": "stream",
     "text": [
      "training better_selection\n",
      "training local_rf\n"
     ]
    },
    {
     "data": {
      "text/plain": [
       "Easting  Northing\n",
       "393470   394371      1\n",
       "395420   405669      1\n",
       "411900   289400      1\n",
       "420400   562300      1\n",
       "397726   296656      1\n",
       "                    ..\n",
       "488200   264700      1\n",
       "508055   434044      1\n",
       "428431   432867      1\n",
       "462498   401208      1\n",
       "441723   378785      1\n",
       "Name: riskLabel, Length: 10000, dtype: int64"
      ]
     },
     "execution_count": 15,
     "metadata": {},
     "output_type": "execute_result"
    }
   ],
   "source": [
    "tool.predict_flood_class_from_OSGB36_location()"
   ]
  },
  {
   "cell_type": "markdown",
   "id": "9277781c",
   "metadata": {},
   "source": [
    "___"
   ]
  },
  {
   "cell_type": "markdown",
   "id": "f2b7b3b8",
   "metadata": {},
   "source": [
    "## Predicting Flood Probaility Classification from WGS84\n",
    "Generate series predicting flood probability classification for a collection of WGS84 datum locations.\n",
    "\n",
    "* __The default input is 'latitudes' first, and 'longitudes', please make sure the input is correct.__\n",
    "* If input is none, it will __not__ return all the locations from unlabelled postcodes file.\n",
    "* Currently this function does not provide other models than default ('better_selection') and will be updated in future versions.\n",
    "* More information please look at README.md"
   ]
  },
  {
   "cell_type": "markdown",
   "id": "0c023e2a",
   "metadata": {},
   "source": [
    "Using Leeds WGS84 location:\n",
    "53° 48' 4.5972'' N and 1° 32' 54.8412'' W. Leeds, UK"
   ]
  },
  {
   "cell_type": "code",
   "execution_count": 16,
   "id": "10e956c7",
   "metadata": {},
   "outputs": [
    {
     "name": "stdout",
     "output_type": "stream",
     "text": [
      "training better_selection\n",
      "training local_rf\n"
     ]
    },
    {
     "data": {
      "text/plain": [
       "Easting        Northing     \n",
       "620395.659881  403272.885151    3\n",
       "Name: riskLabel, dtype: int64"
      ]
     },
     "execution_count": 16,
     "metadata": {},
     "output_type": "execute_result"
    }
   ],
   "source": [
    "tool.predict_flood_class_from_WGS84_locations([53.48],[1.32])"
   ]
  },
  {
   "cell_type": "markdown",
   "id": "d96b77f8",
   "metadata": {},
   "source": [
    "____"
   ]
  },
  {
   "cell_type": "markdown",
   "id": "e346668a",
   "metadata": {},
   "source": [
    "## Predicting Median House Price from Postcodes\n",
    "Generate series predicting median house price for a collection of postcodes.\n",
    "\n",
    "* If input postcodes is none, it will return all the median house price from unlabelled postcodes file.\n",
    "* If input postcodes does not present in given file, it will not return any value.\n",
    "* More information please look at README.md"
   ]
  },
  {
   "cell_type": "code",
   "execution_count": 17,
   "id": "6750d7c1",
   "metadata": {},
   "outputs": [
    {
     "name": "stdout",
     "output_type": "stream",
     "text": [
      "training house_price_rf\n"
     ]
    },
    {
     "data": {
      "text/plain": [
       "M34 7QL    168554.976364\n",
       "Name: medianPrice, dtype: float64"
      ]
     },
     "execution_count": 17,
     "metadata": {},
     "output_type": "execute_result"
    }
   ],
   "source": [
    "tool.predict_median_house_price(['M34 7QL'])"
   ]
  },
  {
   "cell_type": "code",
   "execution_count": 18,
   "id": "fb409c60",
   "metadata": {},
   "outputs": [
    {
     "name": "stdout",
     "output_type": "stream",
     "text": [
      "training house_price_rf\n"
     ]
    },
    {
     "data": {
      "text/plain": [
       "M34 7QL     168554.976364\n",
       "OL4 3NQ     144522.262040\n",
       "B36 8TE     131491.418692\n",
       "NE16 3AT    131366.410242\n",
       "WS10 8DE    134105.357747\n",
       "                ...      \n",
       "NN9 7TY     232223.460974\n",
       "HU6 7YG      82608.295115\n",
       "LS12 1DY    138924.076862\n",
       "DN4 6TZ     189932.416578\n",
       "S31 9BD     173408.786004\n",
       "Name: medianPrice, Length: 10000, dtype: float64"
      ]
     },
     "execution_count": 18,
     "metadata": {},
     "output_type": "execute_result"
    }
   ],
   "source": [
    "tool.predict_median_house_price()"
   ]
  },
  {
   "cell_type": "markdown",
   "id": "2cb20f26",
   "metadata": {},
   "source": [
    "___"
   ]
  },
  {
   "cell_type": "markdown",
   "id": "e6025e17",
   "metadata": {},
   "source": [
    "## Predicting Local Authority from OSGB36 Locations\n",
    "Generate series predicting local authorities for a sequence of OSGB36 locations.\n",
    "* If input is none, it will return all the prediction of local authority for unlabelled postcodes file.\n",
    "* More information please look at README.md"
   ]
  },
  {
   "cell_type": "code",
   "execution_count": 19,
   "id": "659bc64b",
   "metadata": {},
   "outputs": [
    {
     "name": "stdout",
     "output_type": "stream",
     "text": [
      "training local_rf\n"
     ]
    },
    {
     "data": {
      "text/plain": [
       "Northing  Easting\n",
       "393470    394371     Tameside\n",
       "dtype: object"
      ]
     },
     "execution_count": 19,
     "metadata": {},
     "output_type": "execute_result"
    }
   ],
   "source": [
    "tool.predict_local_authority([393470],[394371])"
   ]
  },
  {
   "cell_type": "code",
   "execution_count": 20,
   "id": "75036f2b",
   "metadata": {},
   "outputs": [
    {
     "name": "stdout",
     "output_type": "stream",
     "text": [
      "training local_rf\n"
     ]
    },
    {
     "data": {
      "text/plain": [
       "Northing  Easting\n",
       "393470    394371                        Tameside\n",
       "395420    405669                          Oldham\n",
       "411900    289400                      Birmingham\n",
       "420400    562300                       Gateshead\n",
       "397726    296656                         Walsall\n",
       "                                ...             \n",
       "488200    264700          North Northamptonshire\n",
       "508055    434044     Kingston upon Hull, City of\n",
       "428431    432867                           Leeds\n",
       "462498    401208                       Doncaster\n",
       "441723    378785           North East Derbyshire\n",
       "Length: 10000, dtype: object"
      ]
     },
     "execution_count": 20,
     "metadata": {},
     "output_type": "execute_result"
    }
   ],
   "source": [
    "tool.predict_local_authority()"
   ]
  },
  {
   "cell_type": "markdown",
   "id": "999aaf75",
   "metadata": {},
   "source": [
    "___"
   ]
  },
  {
   "cell_type": "markdown",
   "id": "9767d51d",
   "metadata": {},
   "source": [
    "## Predicting Historic Flooding from Postcodes\n",
    "Generate series predicting historic flooding event for a collection of postcodes.\n",
    "\n",
    "* If input postcodes is none, it will return all the historic flooding based on postcodes from unlabelled postcodes file.\n",
    "* If input postcodes does not present in given file, it will not return any value.\n",
    "* More information please look at README.md"
   ]
  },
  {
   "cell_type": "code",
   "execution_count": 21,
   "id": "873cded7",
   "metadata": {},
   "outputs": [
    {
     "name": "stdout",
     "output_type": "stream",
     "text": [
      "training historic_rf\n"
     ]
    },
    {
     "data": {
      "text/plain": [
       "M34 7QL    False\n",
       "Name: historicallyFlooded, dtype: bool"
      ]
     },
     "execution_count": 21,
     "metadata": {},
     "output_type": "execute_result"
    }
   ],
   "source": [
    "tool.predict_historic_flooding(['M34 7QL'])"
   ]
  },
  {
   "cell_type": "code",
   "execution_count": 22,
   "id": "dd360309",
   "metadata": {},
   "outputs": [
    {
     "name": "stdout",
     "output_type": "stream",
     "text": [
      "training historic_rf\n"
     ]
    },
    {
     "data": {
      "text/plain": [
       "M34 7QL     False\n",
       "OL4 3NQ     False\n",
       "B36 8TE     False\n",
       "NE16 3AT    False\n",
       "WS10 8DE    False\n",
       "            ...  \n",
       "NN9 7TY     False\n",
       "HU6 7YG     False\n",
       "LS12 1DY    False\n",
       "DN4 6TZ     False\n",
       "S31 9BD     False\n",
       "Name: historicallyFlooded, Length: 10000, dtype: bool"
      ]
     },
     "execution_count": 22,
     "metadata": {},
     "output_type": "execute_result"
    }
   ],
   "source": [
    "tool.predict_historic_flooding()"
   ]
  },
  {
   "cell_type": "markdown",
   "id": "d5b79ee5",
   "metadata": {},
   "source": [
    "___"
   ]
  },
  {
   "cell_type": "markdown",
   "id": "e64e1992",
   "metadata": {},
   "source": [
    "## Predicting Total Value from postcodes\n",
    "Return a series of estimates of the total property values of a sequence of postcode units or postcode sectors.\n",
    "\n",
    "* If input postcodes is none, it will return the total value based on postcodes from unlabelled postcodes file.\n",
    "* If input postcodes does not present in given file, it will not return any value.\n",
    "* More information please look at README.md"
   ]
  },
  {
   "cell_type": "code",
   "execution_count": 23,
   "id": "255c6623",
   "metadata": {},
   "outputs": [
    {
     "name": "stdout",
     "output_type": "stream",
     "text": [
      "training house_price_rf\n"
     ]
    },
    {
     "data": {
      "text/plain": [
       "groupedPostcodes\n",
       "M34 7QL    168554.976364\n",
       "Name: medianPrice, dtype: float64"
      ]
     },
     "execution_count": 23,
     "metadata": {},
     "output_type": "execute_result"
    }
   ],
   "source": [
    "tool.predict_total_value(['M34 7QL'])"
   ]
  },
  {
   "cell_type": "code",
   "execution_count": 24,
   "id": "e4155fa2",
   "metadata": {},
   "outputs": [
    {
     "name": "stdout",
     "output_type": "stream",
     "text": [
      "training house_price_rf\n"
     ]
    },
    {
     "data": {
      "text/plain": [
       "groupedPostcodes\n",
       "B1 1BT     238152.250110\n",
       "B1 1JS     246321.531282\n",
       "B1 1RD     236294.972427\n",
       "B1 1US     256154.243866\n",
       "B1 2AJ     311966.965995\n",
       "               ...      \n",
       "YO8 9LF    238285.866776\n",
       "YO8 9QT    220981.622859\n",
       "YO8 9UZ    218305.294936\n",
       "YO8 9XE    222974.077006\n",
       "YO8 9XW    208991.702800\n",
       "Name: medianPrice, Length: 10000, dtype: float64"
      ]
     },
     "execution_count": 24,
     "metadata": {},
     "output_type": "execute_result"
    }
   ],
   "source": [
    "tool.predict_total_value()"
   ]
  },
  {
   "cell_type": "markdown",
   "id": "cf15e22b",
   "metadata": {},
   "source": [
    "___"
   ]
  },
  {
   "cell_type": "markdown",
   "id": "4400ddd7",
   "metadata": {},
   "source": [
    "## Predicting Annual Flood Risk from Postcodes\n",
    "Return a series of estimates of the annual flood risk of a collection of postcodes.\n",
    "\n",
    "Risk is defined here as a damage coefficient multiplied by the value under threat multiplied by the probability of an event.\n",
    "\n",
    "\n",
    "* If input postcodes is none, it will return all the annual flood risk based on postcodes from unlabelled postcodes file.\n",
    "* If input postcodes does not present in given file, it will not return any value.\n",
    "* More information please look at README.md"
   ]
  },
  {
   "cell_type": "code",
   "execution_count": 25,
   "id": "2948666d",
   "metadata": {},
   "outputs": [
    {
     "name": "stdout",
     "output_type": "stream",
     "text": [
      "training local_rf\n",
      "training better_selection\n",
      "training house_price_rf\n"
     ]
    },
    {
     "data": {
      "text/plain": [
       "groupedPostcodes\n",
       "M34 7QL    8.427749\n",
       "dtype: float64"
      ]
     },
     "execution_count": 25,
     "metadata": {},
     "output_type": "execute_result"
    }
   ],
   "source": [
    "tool.predict_annual_flood_risk(['M34 7QL'])"
   ]
  },
  {
   "cell_type": "code",
   "execution_count": 26,
   "id": "9d5cc320",
   "metadata": {},
   "outputs": [
    {
     "name": "stdout",
     "output_type": "stream",
     "text": [
      "training local_rf\n",
      "training better_selection\n",
      "training house_price_rf\n"
     ]
    },
    {
     "data": {
      "text/plain": [
       "groupedPostcodes\n",
       "B1 1BT      11.907613\n",
       "B1 1JS      12.316077\n",
       "B1 1RD      11.814749\n",
       "B1 1US      12.807712\n",
       "B1 2AJ      15.598348\n",
       "              ...    \n",
       "YO8 9LF     11.914293\n",
       "YO8 9QT     11.049081\n",
       "YO8 9UZ     10.915265\n",
       "YO8 9XE     11.148704\n",
       "YO8 9XW    156.743777\n",
       "Length: 10000, dtype: float64"
      ]
     },
     "execution_count": 26,
     "metadata": {},
     "output_type": "execute_result"
    }
   ],
   "source": [
    "tool.predict_annual_flood_risk()"
   ]
  },
  {
   "cell_type": "markdown",
   "id": "38db4ea4",
   "metadata": {},
   "source": [
    "____"
   ]
  },
  {
   "cell_type": "markdown",
   "id": "e64a12a8",
   "metadata": {},
   "source": [
    "## Final Outcome for All Predictions\n",
    "\n",
    "Return a pandas DataFrame containing all outputs from the training models (predicted median house price, local authority, historic flooding, flood class and annual flood risk). \n",
    "\n",
    "* If input postcodes is none, it will return all the postcodes from unlabelled postcodes file.\n",
    "* If input postcodes does not present in given file, it will not return any value.\n",
    "* More information please look at README.md"
   ]
  },
  {
   "cell_type": "code",
   "execution_count": 27,
   "id": "be73864a",
   "metadata": {},
   "outputs": [
    {
     "name": "stdout",
     "output_type": "stream",
     "text": [
      "training house_price_rf\n",
      "training historic_rf\n",
      "training local_rf\n",
      "training better_selection\n",
      "training local_rf\n",
      "training better_selection\n",
      "training house_price_rf\n"
     ]
    },
    {
     "data": {
      "text/html": [
       "<div>\n",
       "<style scoped>\n",
       "    .dataframe tbody tr th:only-of-type {\n",
       "        vertical-align: middle;\n",
       "    }\n",
       "\n",
       "    .dataframe tbody tr th {\n",
       "        vertical-align: top;\n",
       "    }\n",
       "\n",
       "    .dataframe thead th {\n",
       "        text-align: right;\n",
       "    }\n",
       "</style>\n",
       "<table border=\"1\" class=\"dataframe\">\n",
       "  <thead>\n",
       "    <tr style=\"text-align: right;\">\n",
       "      <th></th>\n",
       "      <th>median_house_price</th>\n",
       "      <th>historic_flooding</th>\n",
       "      <th>flood_class</th>\n",
       "      <th>annual_flood_risk</th>\n",
       "    </tr>\n",
       "  </thead>\n",
       "  <tbody>\n",
       "    <tr>\n",
       "      <th>M34 7QL</th>\n",
       "      <td>168554.976364</td>\n",
       "      <td>False</td>\n",
       "      <td>1</td>\n",
       "      <td>8.427749</td>\n",
       "    </tr>\n",
       "  </tbody>\n",
       "</table>\n",
       "</div>"
      ],
      "text/plain": [
       "         median_house_price  historic_flooding  flood_class  annual_flood_risk\n",
       "M34 7QL       168554.976364              False            1           8.427749"
      ]
     },
     "execution_count": 27,
     "metadata": {},
     "output_type": "execute_result"
    }
   ],
   "source": [
    "tool.collate_outputs(['M34 7QL'])"
   ]
  },
  {
   "cell_type": "code",
   "execution_count": 28,
   "id": "560f52eb",
   "metadata": {},
   "outputs": [
    {
     "name": "stdout",
     "output_type": "stream",
     "text": [
      "training house_price_rf\n",
      "training historic_rf\n",
      "training local_rf\n",
      "training better_selection\n",
      "training local_rf\n",
      "training better_selection\n",
      "training house_price_rf\n"
     ]
    },
    {
     "data": {
      "text/html": [
       "<div>\n",
       "<style scoped>\n",
       "    .dataframe tbody tr th:only-of-type {\n",
       "        vertical-align: middle;\n",
       "    }\n",
       "\n",
       "    .dataframe tbody tr th {\n",
       "        vertical-align: top;\n",
       "    }\n",
       "\n",
       "    .dataframe thead th {\n",
       "        text-align: right;\n",
       "    }\n",
       "</style>\n",
       "<table border=\"1\" class=\"dataframe\">\n",
       "  <thead>\n",
       "    <tr style=\"text-align: right;\">\n",
       "      <th></th>\n",
       "      <th>median_house_price</th>\n",
       "      <th>historic_flooding</th>\n",
       "      <th>flood_class</th>\n",
       "      <th>annual_flood_risk</th>\n",
       "    </tr>\n",
       "  </thead>\n",
       "  <tbody>\n",
       "    <tr>\n",
       "      <th>B1 1BT</th>\n",
       "      <td>238152.250110</td>\n",
       "      <td>False</td>\n",
       "      <td>1</td>\n",
       "      <td>11.907613</td>\n",
       "    </tr>\n",
       "    <tr>\n",
       "      <th>B1 1JS</th>\n",
       "      <td>246321.531282</td>\n",
       "      <td>False</td>\n",
       "      <td>1</td>\n",
       "      <td>12.316077</td>\n",
       "    </tr>\n",
       "    <tr>\n",
       "      <th>B1 1RD</th>\n",
       "      <td>236294.972427</td>\n",
       "      <td>False</td>\n",
       "      <td>1</td>\n",
       "      <td>11.814749</td>\n",
       "    </tr>\n",
       "    <tr>\n",
       "      <th>B1 1US</th>\n",
       "      <td>256154.243866</td>\n",
       "      <td>False</td>\n",
       "      <td>1</td>\n",
       "      <td>12.807712</td>\n",
       "    </tr>\n",
       "    <tr>\n",
       "      <th>B1 2AJ</th>\n",
       "      <td>311966.965995</td>\n",
       "      <td>False</td>\n",
       "      <td>1</td>\n",
       "      <td>15.598348</td>\n",
       "    </tr>\n",
       "    <tr>\n",
       "      <th>...</th>\n",
       "      <td>...</td>\n",
       "      <td>...</td>\n",
       "      <td>...</td>\n",
       "      <td>...</td>\n",
       "    </tr>\n",
       "    <tr>\n",
       "      <th>YO8 9LF</th>\n",
       "      <td>238285.866776</td>\n",
       "      <td>False</td>\n",
       "      <td>1</td>\n",
       "      <td>11.914293</td>\n",
       "    </tr>\n",
       "    <tr>\n",
       "      <th>YO8 9QT</th>\n",
       "      <td>220981.622859</td>\n",
       "      <td>True</td>\n",
       "      <td>1</td>\n",
       "      <td>11.049081</td>\n",
       "    </tr>\n",
       "    <tr>\n",
       "      <th>YO8 9UZ</th>\n",
       "      <td>218305.294936</td>\n",
       "      <td>True</td>\n",
       "      <td>1</td>\n",
       "      <td>10.915265</td>\n",
       "    </tr>\n",
       "    <tr>\n",
       "      <th>YO8 9XE</th>\n",
       "      <td>222974.077006</td>\n",
       "      <td>False</td>\n",
       "      <td>1</td>\n",
       "      <td>11.148704</td>\n",
       "    </tr>\n",
       "    <tr>\n",
       "      <th>YO8 9XW</th>\n",
       "      <td>208991.702800</td>\n",
       "      <td>False</td>\n",
       "      <td>6</td>\n",
       "      <td>156.743777</td>\n",
       "    </tr>\n",
       "  </tbody>\n",
       "</table>\n",
       "<p>10000 rows × 4 columns</p>\n",
       "</div>"
      ],
      "text/plain": [
       "         median_house_price  historic_flooding  flood_class  annual_flood_risk\n",
       "B1 1BT        238152.250110              False            1          11.907613\n",
       "B1 1JS        246321.531282              False            1          12.316077\n",
       "B1 1RD        236294.972427              False            1          11.814749\n",
       "B1 1US        256154.243866              False            1          12.807712\n",
       "B1 2AJ        311966.965995              False            1          15.598348\n",
       "...                     ...                ...          ...                ...\n",
       "YO8 9LF       238285.866776              False            1          11.914293\n",
       "YO8 9QT       220981.622859               True            1          11.049081\n",
       "YO8 9UZ       218305.294936               True            1          10.915265\n",
       "YO8 9XE       222974.077006              False            1          11.148704\n",
       "YO8 9XW       208991.702800              False            6         156.743777\n",
       "\n",
       "[10000 rows x 4 columns]"
      ]
     },
     "execution_count": 28,
     "metadata": {},
     "output_type": "execute_result"
    }
   ],
   "source": [
    "tool.collate_outputs()"
   ]
  },
  {
   "cell_type": "markdown",
   "id": "7d45289d",
   "metadata": {},
   "source": [
    "## All other functions \n",
    "\n",
    "Any questions about other functions included in the package can be found in additional_methods (covers methods that are used but not considered core to the functionality) or exploration (covers methods that are left into the package, but not used in constructing the final output). Additionally, we direct users to ideas_for_next_steps if they would like to improve and ammend the package."
   ]
  }
 ],
 "metadata": {
  "kernelspec": {
   "display_name": "Python 3 (ipykernel)",
   "language": "python",
   "name": "python3"
  },
  "language_info": {
   "codemirror_mode": {
    "name": "ipython",
    "version": 3
   },
   "file_extension": ".py",
   "mimetype": "text/x-python",
   "name": "python",
   "nbconvert_exporter": "python",
   "pygments_lexer": "ipython3",
   "version": "3.11.0"
  }
 },
 "nbformat": 4,
 "nbformat_minor": 5
}

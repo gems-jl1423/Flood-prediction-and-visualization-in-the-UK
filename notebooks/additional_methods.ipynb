{
 "cells": [
  {
   "cell_type": "markdown",
   "metadata": {},
   "source": [
    "# Additional Methods in ADS Deluge Project"
   ]
  },
  {
   "cell_type": "markdown",
   "metadata": {},
   "source": [
    "#### Core functionality is covered in the README, but please refer to this notebook for information about additional methods that were implemented and used in tool.py."
   ]
  },
  {
   "cell_type": "markdown",
   "metadata": {},
   "source": [
    "____"
   ]
  },
  {
   "cell_type": "markdown",
   "metadata": {},
   "source": [
    "regularize(self, postcode, geographic_level = 'all')"
   ]
  },
  {
   "cell_type": "markdown",
   "metadata": {},
   "source": [
    "**Description**: The regularize method takes a list of postcodes and a specified geographic level as input parameters and returns the regularized postcodes based on the specified level. The supported geographic levels are 'all', 'area', 'district', and 'sector'. If an invalid level is provided, it defaults to 'all'. The method then cleans the input postcodes by converting them to uppercase, removing extra whitespaces, and formatting it consistently.\n",
    "\n",
    "Next, it extracts the area, district, sector, and unit components from the postcodes. The regularized postcodes are constructed based on the specified geographic level. If 'all' is chosen, the method returns the full regularized postcodes. For 'area', it returns only the area components. For 'district', it concatenates the area and district components. For 'sector', it returns the area, district, and sector components.\n",
    "\n",
    "This method provides a flexible way to obtain regularized postcodes at different geographic levels, facilitating data analysis and comparisons based on user-defined granularity."
   ]
  },
  {
   "cell_type": "markdown",
   "metadata": {},
   "source": [
    "**Usage**: This method is used throughout the code to make sure that inputted data have postcodes which can be matched against each other. It is specifically used when adding pet and population data to the dataframes and when completing a final score for risk based on median house prices and flood risk, allowing the user to select the geogrpahic level for which they want to aggregate damages."
   ]
  },
  {
   "cell_type": "markdown",
   "metadata": {},
   "source": [
    "**Other functions that call**: add_population_to_df, add_pets_to_df, predict_total_value, predict_annual_flood_risk"
   ]
  },
  {
   "cell_type": "markdown",
   "metadata": {},
   "source": [
    "___"
   ]
  },
  {
   "cell_type": "markdown",
   "metadata": {},
   "source": [
    "regularize_bare(self, col_to_regularize)"
   ]
  },
  {
   "cell_type": "markdown",
   "metadata": {},
   "source": [
    "**Description**: The regularize_bare method standardizes any data column by converting it to uppercase and removing extra whitespaces. It's a generic utility for consistent formatting. It differs from the regularize method which is specific to postcodes, extracting components based on geographic levels ('all', 'area', 'district', or 'sector') to construct regularized forms."
   ]
  },
  {
   "cell_type": "markdown",
   "metadata": {},
   "source": [
    "**Usage**: While regularize_bare is not specified for postcodes, it is most often used to regularize postcodes already in a fairly standard format. In particular, it is used when a postcode is already in Sector or District form, to make sure no weird whitespaces or uppercases harm the matching functionality with regularized postcodes in another dataframe,"
   ]
  },
  {
   "cell_type": "markdown",
   "metadata": {},
   "source": [
    "**Other functions that call**: add_population_to_df, add_pets_to_df"
   ]
  },
  {
   "cell_type": "markdown",
   "metadata": {},
   "source": [
    "___"
   ]
  },
  {
   "cell_type": "markdown",
   "metadata": {},
   "source": [
    "add_data(self, pop_df, labelled_df, input_label = 'postcodeSector', output_label='average_pop')"
   ]
  },
  {
   "cell_type": "markdown",
   "metadata": {},
   "source": [
    "**Description**: The add_data method combines new data (originally written for population data) from a given database into the user's database of choice (usually the unlabelled or labelled dataframe). This method is a convenient way to augment a DataFrame with additional data, specifically average population values based on the provided input and output labels.\n",
    "\n",
    "Input labels should be the column you want to combine on and output labels should be the column you are hoping to append."
   ]
  },
  {
   "cell_type": "markdown",
   "metadata": {},
   "source": [
    "**Usage**: This is used to add population data and pet data to the median house price model. If given more time, our team may have considered whether using this method to add population or pets data (or other data altogether) could have improved the models."
   ]
  },
  {
   "cell_type": "markdown",
   "metadata": {},
   "source": [
    "**Other functions that call**: add_population_to_df, add_pets_to_df"
   ]
  },
  {
   "cell_type": "markdown",
   "metadata": {},
   "source": [
    "____"
   ]
  },
  {
   "cell_type": "markdown",
   "metadata": {},
   "source": [
    "add_population_to_df (self, dataframe_to_add_to)"
   ]
  },
  {
   "cell_type": "markdown",
   "metadata": {},
   "source": [
    "**Description**: The add_population_to_df method supplements a given DataFrame (dataframe_to_add_to, usually unlabelled or labelled data) with population data. It first regularizes the 'postcode' column in the provided DataFrame to the 'postcodeSector' level. Then, it regularizes the 'postcodeSector' column in the internal population data (self._population). The population is calculated as the division of 'headcount' by 'numberOfPostcodeUnits' in the postcodeSector. Finally, the add_data method is used to merge the average population values from the population data into the original DataFrame. The resulting DataFrame, now enriched with population data, is returned."
   ]
  },
  {
   "cell_type": "markdown",
   "metadata": {},
   "source": [
    "**Usage**: This method is used to add population to the dataframe, improving the median house price model."
   ]
  },
  {
   "cell_type": "markdown",
   "metadata": {},
   "source": [
    "**Other functions that call**: train, predict_median_house_price"
   ]
  },
  {
   "cell_type": "markdown",
   "metadata": {},
   "source": [
    "___"
   ]
  },
  {
   "cell_type": "markdown",
   "metadata": {},
   "source": [
    "add_pets_to_df (self, dataframe_to_add_to)"
   ]
  },
  {
   "cell_type": "markdown",
   "metadata": {},
   "source": [
    "**Description**: The add_pets_to_df method enhances a given DataFrame (dataframe_to_add_to) with pet-related data. It standardizes the 'postcode' column to the 'postcodeDistrict' level and aligns the 'postcodeDistrict' column in the internal pet data (self._pets). The average number of pets per household is computed as the sum of cats and dogs per household across the district. Utilizing the add_data method, the pet data is merged into the original DataFrame, using 'postcodeDistrict' as the input label and 'avg_pets_per_household' as the output label. The enriched DataFrame is then returned. This method closely mirrors add_population_to_df."
   ]
  },
  {
   "cell_type": "markdown",
   "metadata": {},
   "source": [
    "**Usage**: As with add_population_to_df, this method is used to add pets to the dataframe, improving the median house price model."
   ]
  },
  {
   "cell_type": "markdown",
   "metadata": {},
   "source": [
    "___"
   ]
  },
  {
   "cell_type": "markdown",
   "metadata": {},
   "source": [
    "find_closest_region_feas(self, dataset, features)"
   ]
  },
  {
   "cell_type": "markdown",
   "metadata": {},
   "source": [
    "**Description**: The find_closest_region_feas method fills NaN values in input features for median house price prediction. It finds the postcodes that have NaN easting, northing, average pets or average population features, and fills the NaN with the average value of the smallest region that contains the postcode.It tries to find the sector or district that contains the postcode in the dataset, and compute the mean value of each input feature of that sector or district, which is assigned to the postcode with NaN features. If the corresponding sector or district is not present in the dataset, the mean value of the whole dataset will be used. "
   ]
  },
  {
   "cell_type": "markdown",
   "metadata": {},
   "source": [
    "**Usage**: This method is used to fill NaN values in input features for median house price prediction, improving the generalization of the model."
   ]
  },
  {
   "cell_type": "markdown",
   "metadata": {},
   "source": [
    "___"
   ]
  },
  {
   "cell_type": "markdown",
   "metadata": {},
   "source": [
    "__score_test(self,y_pred,Y_test)"
   ]
  },
  {
   "cell_type": "markdown",
   "metadata": {},
   "source": [
    "**Description**:The __score_test method caculate the score for predict risklabel model when input y_pred and y_test. "
   ]
  },
  {
   "cell_type": "markdown",
   "metadata": {},
   "source": [
    "**Usage**: This method is used to help us select the best model by compare the score for each localAutho to store in the models set."
   ]
  },
  {
   "cell_type": "markdown",
   "metadata": {},
   "source": [
    "____"
   ]
  },
  {
   "cell_type": "markdown",
   "metadata": {},
   "source": [
    "__prep_unlabel(self, test_set = None)"
   ]
  },
  {
   "cell_type": "markdown",
   "metadata": {},
   "source": [
    "**Description**:The __prep_unlabel method prepare all input risklabel predict models need. All risklabel predict models we made need three elements, but unlabel data has only 'easting' and 'northing'. Recall the function predict_local_authority('easting','northing') return the localAuthority. Than creat a new dataset test_set contain 'easting' , 'northing'  and 'localAuthority'."
   ]
  },
  {
   "cell_type": "markdown",
   "metadata": {},
   "source": [
    "**Usage**: This method is used to prepare all input risklabel predict models need."
   ]
  },
  {
   "cell_type": "markdown",
   "metadata": {},
   "source": [
    "____"
   ]
  }
 ],
 "metadata": {
  "kernelspec": {
   "display_name": "Python 3 (ipykernel)",
   "language": "python",
   "name": "python3"
  },
  "language_info": {
   "codemirror_mode": {
    "name": "ipython",
    "version": 3
   },
   "file_extension": ".py",
   "mimetype": "text/x-python",
   "name": "python",
   "nbconvert_exporter": "python",
   "pygments_lexer": "ipython3",
   "version": "3.11.0"
  }
 },
 "nbformat": 4,
 "nbformat_minor": 2
}

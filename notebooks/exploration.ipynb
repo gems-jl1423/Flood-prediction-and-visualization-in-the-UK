{
 "cells": [
  {
   "cell_type": "markdown",
   "metadata": {},
   "source": [
    "# Exploration in ADS Deluge Project"
   ]
  },
  {
   "cell_type": "markdown",
   "metadata": {},
   "source": [
    "#### Core functionality is covered in the README, but please refer to this notebook for information about exploratory methods that were attempted to be implemented, but ultimately not used in the final product of the ADS Deluge package."
   ]
  },
  {
   "cell_type": "markdown",
   "metadata": {},
   "source": [
    "_______"
   ]
  },
  {
   "cell_type": "markdown",
   "metadata": {},
   "source": [
    "get_postcode_from_lat_long(self, lat, long)"
   ]
  },
  {
   "cell_type": "markdown",
   "metadata": {},
   "source": [
    "\n",
    "**Description**: The get_postcode_from_lat_long function takes latitude and longitude as input parameters. It first checks if the coordinates fall within an accepted geographic range by comparing them to the minimum and maximum values obtained from the find_min_max_lat method. If the coordinates are within range, it calculates the easting and northing using get_easting_northing_from_gps_lat_long and then determines the closest postcode with get_closest_postcode_from_easting_northing. The function returns the resulting postcode. If the coordinates are outside the accepted range, it prints a message and returns None to signify an invalid input. This helps ensure the function processes only valid coordinates."
   ]
  },
  {
   "cell_type": "markdown",
   "metadata": {},
   "source": [
    "**Intended Use**: This function was written so additional data could be passed into the model, matching the data to the closest postcode based on latitude and longitude coordinates provided. "
   ]
  },
  {
   "cell_type": "markdown",
   "metadata": {},
   "source": [
    "**Non-Use**: Ultimately, we did not use this method at this time because it was too time intensive. While efforts were made towards optimization, we realized model outputs that met a level of accuracy we were satisfied with, without having to read in more data and geographically match it using this time intensive process. "
   ]
  },
  {
   "cell_type": "markdown",
   "metadata": {},
   "source": [
    "__________________"
   ]
  },
  {
   "cell_type": "markdown",
   "metadata": {},
   "source": [
    "get_closest_postcode_from_easting_northing(self, easting, northing)"
   ]
  },
  {
   "cell_type": "markdown",
   "metadata": {},
   "source": [
    "**Description**: The get_closest_postcode_from_easting_northing function retrieves the postcode associated with a given set of easting and northing coordinates. The method creates a copy of the postcode database and calculates the Euclidean distance between each entry's easting-northing coordinates and the specified location. The closest postcode is determined by finding the minimum distance in the database. The function then returns this closest postcode"
   ]
  },
  {
   "cell_type": "markdown",
   "metadata": {},
   "source": [
    "**Intended Use**: This function was written so additional data could be passed into the model, similar to the function above, but using easting and northing coordinates instead of latitude and longitude. Actually, the fucntion above converts lat and long to easting and northing and calls on this function for its functionality. "
   ]
  },
  {
   "cell_type": "markdown",
   "metadata": {},
   "source": [
    "**Non-Use**: As with the function above, this function was not utilized because it is time intensive and did not provide enough gains. "
   ]
  },
  {
   "cell_type": "markdown",
   "metadata": {},
   "source": [
    "______"
   ]
  },
  {
   "cell_type": "markdown",
   "metadata": {},
   "source": [
    "find_min_max_lat (self)"
   ]
  },
  {
   "cell_type": "markdown",
   "metadata": {},
   "source": [
    "**Description**: The find_min_max_lat function calculates and returns the minimum and maximum latitude and longitude values of the postcodes in the database. It creates a copy of the database, computes the latitude and longitude for each entry using get_gps_lat_long_from_easting_northing, and then returns the corresponding minimum and maximum values. This function is useful for establishing the acceptable geographic range for latitude and longitude in other parts of the program."
   ]
  },
  {
   "cell_type": "markdown",
   "metadata": {},
   "source": [
    "**Intended Use**: As a helper method for get_postcode_from_lat_long."
   ]
  },
  {
   "cell_type": "markdown",
   "metadata": {},
   "source": [
    "**Non-Use**: Since get_postcode_from_lat_long was not used, it was not needed."
   ]
  },
  {
   "cell_type": "markdown",
   "metadata": {},
   "source": [
    "_____"
   ]
  },
  {
   "cell_type": "markdown",
   "metadata": {},
   "source": [
    "get_distance_between_lat_lon"
   ]
  },
  {
   "cell_type": "markdown",
   "metadata": {},
   "source": [
    "\n",
    "**Description**: The get_distance_between_lat_lon function calculates the distance in meters between two points, where the first point represents a postcode and the second point represents a station. Given the latitude and longitude of both points, it converts them to easting and northing coordinates, computes the Euclidean distance, and returns the result."
   ]
  },
  {
   "cell_type": "markdown",
   "metadata": {},
   "source": [
    "**Intended Use**: This function was intended to be used in conjunction with the following one to calculate the rainfall station closest to a given postcode."
   ]
  },
  {
   "cell_type": "markdown",
   "metadata": {},
   "source": [
    "**Non-Use**: Since the following function was not used, neither was this one. "
   ]
  },
  {
   "cell_type": "markdown",
   "metadata": {},
   "source": [
    "_____"
   ]
  },
  {
   "cell_type": "markdown",
   "metadata": {},
   "source": [
    "get_closest_stations"
   ]
  },
  {
   "cell_type": "markdown",
   "metadata": {},
   "source": [
    "**Description**: The get_closest_stations function determines the closest rainfall stations to each postcode based on their latitudes and longitudes. It takes a DataFrame of postcodes and another DataFrame of stations (or uses the internal station data if not provided). For each postcode, it calculates the distance to each station using the get_distance_between_lat_lon function. The function then sorts the stations by distance and selects the closest ones (the number of stations selected is specified by the n_stations parameter). The results are aggregated into a DataFrame and returned, with each row indicating a postcode and its closest stations in meters."
   ]
  },
  {
   "cell_type": "markdown",
   "metadata": {},
   "source": [
    "**Intended Use**: This was going to be appended to the unlabelled dataframe as an additional parameter that would allow the models to train on rainfall data as well as the information already provided. "
   ]
  },
  {
   "cell_type": "markdown",
   "metadata": {},
   "source": [
    "**Non-Use**: However, once excluding those stations that only had null data for typical ranges and maximum and minimum values, many of the postcodes' closest station was more than 30 kilometers away. We considered setting a theshold at 10 kilometers and taking the mean rainfall for those postcodes without data, but it proved too time intensive a method for data that would not have been very robust. \n",
    "\n",
    "This current implementation still includes NaNs. "
   ]
  }
 ],
 "metadata": {
  "language_info": {
   "name": "python"
  }
 },
 "nbformat": 4,
 "nbformat_minor": 2
}

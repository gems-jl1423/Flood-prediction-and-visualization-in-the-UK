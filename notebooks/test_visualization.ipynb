{
 "cells": [
  {
   "cell_type": "code",
   "execution_count": null,
   "id": "4a63a614-f592-4753-bc39-9908d6f51874",
   "metadata": {},
   "outputs": [],
   "source": [
    "import flood_tool as ft\n",
    "from flood_tool import Tool\n",
    "import pandas as pd"
   ]
  },
  {
   "cell_type": "markdown",
   "id": "d9056fe4-c0e6-4c84-abd9-ae727a3f01ea",
   "metadata": {},
   "source": [
    "## 1. Using the default parameters of the ***display_features***"
   ]
  },
  {
   "cell_type": "markdown",
   "id": "5483a1e9-4c09-48cf-9078-ae83aefc0844",
   "metadata": {},
   "source": [
    "By default, the ***display_fetaures()*** will display the Risk level for each PostCode and the contour line for the Risk level as a number between 1 and 10.\n",
    "\n",
    "***display_features()*** is using **\"../resources/postcodes_labelled.csv\"** as a default file for plotting. The upper right corner contains all the layers available for visualisation. \n",
    "\n",
    "The current version supports the following layers: Postcode (as points), Risk Labels Postcodes (individual postcode and their corresponding risk label), Risk Area, which are selected areas you can zoom in to get a HeatMap around and Countor lines of the selected feature."
   ]
  },
  {
   "cell_type": "code",
   "execution_count": null,
   "id": "38a087e8-56f3-4e0e-aa2e-e61aa4ec6154",
   "metadata": {},
   "outputs": [],
   "source": [
    "default = ft.display_features()"
   ]
  },
  {
   "cell_type": "code",
   "execution_count": null,
   "id": "a62f23b5-1a5d-48c3-8c13-69d88488f3a6",
   "metadata": {
    "scrolled": true
   },
   "outputs": [],
   "source": [
    "default"
   ]
  },
  {
   "cell_type": "markdown",
   "id": "762a1fcb-5bfb-4785-b712-31498164a91b",
   "metadata": {},
   "source": [
    "If there are other features in the file, it is possible to pass a paramater to ***display_fetaures()***. We can see that **\"postcodes_labelled.csv\"** has different features such as elevation or medianPrice. This features can be pass as a parameter to  ***display_fetaures()***"
   ]
  },
  {
   "cell_type": "code",
   "execution_count": null,
   "id": "5298238e-ec56-44ba-af3e-99188ea7c349",
   "metadata": {},
   "outputs": [],
   "source": [
    "postcodes_labelled = pd.read_csv(r'flood_tool/resources/postcodes_labelled.csv')\n",
    "postcodes_labelled.head()"
   ]
  },
  {
   "cell_type": "code",
   "execution_count": null,
   "id": "bc812478-46a5-4b1d-a676-a5062d4ec20b",
   "metadata": {},
   "outputs": [],
   "source": [
    "#medianPrice = ft.display_features(parameter = 'medianPrice')"
   ]
  },
  {
   "cell_type": "code",
   "execution_count": null,
   "id": "48607f21-9ead-4325-9a3b-2155cab1a343",
   "metadata": {},
   "outputs": [],
   "source": [
    "#medianPrice"
   ]
  },
  {
   "cell_type": "markdown",
   "id": "1d547c31-4422-4301-98fb-224a957a431e",
   "metadata": {},
   "source": [
    "The **display_fetaures()** tool can also take the file's location as a parameter. The user needs to pass the path of the file and the parameter to be displayed onto the map"
   ]
  },
  {
   "cell_type": "code",
   "execution_count": null,
   "id": "2eb2d1a8-302b-4f20-a0f2-4dd1d657b5ff",
   "metadata": {},
   "outputs": [],
   "source": [
    "#wet_day = pd.read_csv(r'flood_tool/resources/wet_day.csv')"
   ]
  },
  {
   "cell_type": "code",
   "execution_count": null,
   "id": "924a5e5c-faec-476a-b94f-a2b6469735bc",
   "metadata": {},
   "outputs": [],
   "source": [
    "#wet_day = ft.add_countours(param = 'rainfall', risk_or_rainfall='rainfall_river', rainfall_river_data=r'flood_tool/resources/wet_day.csv')"
   ]
  },
  {
   "cell_type": "code",
   "execution_count": null,
   "id": "1b9f78be-876d-4b04-a611-d5716aee9e93",
   "metadata": {},
   "outputs": [],
   "source": [
    "#wet_day"
   ]
  },
  {
   "cell_type": "markdown",
   "id": "6416eeda",
   "metadata": {},
   "source": [
    "## 2. Using the results of the prediction tools as inputs of ***display_features***"
   ]
  },
  {
   "cell_type": "markdown",
   "id": "03c76963",
   "metadata": {},
   "source": [
    "When creating an objetc of Tool() the user will have access to collate_outputs() which will return a dataframe with the results of the prediction of flood risk"
   ]
  },
  {
   "cell_type": "code",
   "execution_count": 1,
   "id": "72c90fa9",
   "metadata": {},
   "outputs": [],
   "source": [
    "from flood_tool import Tool"
   ]
  },
  {
   "cell_type": "code",
   "execution_count": 2,
   "id": "0e0aa332-f592-4582-856a-0ac8fa49fade",
   "metadata": {},
   "outputs": [],
   "source": [
    "tool = Tool()"
   ]
  },
  {
   "cell_type": "code",
   "execution_count": 3,
   "id": "8bc1c071",
   "metadata": {},
   "outputs": [
    {
     "name": "stdout",
     "output_type": "stream",
     "text": [
      "training house_price_rf\n",
      "training historic_rf\n",
      "training local_rf\n",
      "training better_selection\n",
      "training local_rf\n",
      "training better_selection\n",
      "training house_price_rf\n"
     ]
    }
   ],
   "source": [
    "outputs =  tool.collate_outputs()"
   ]
  },
  {
   "cell_type": "code",
   "execution_count": 4,
   "id": "de490b14",
   "metadata": {},
   "outputs": [
    {
     "data": {
      "text/html": [
       "<div>\n",
       "<style scoped>\n",
       "    .dataframe tbody tr th:only-of-type {\n",
       "        vertical-align: middle;\n",
       "    }\n",
       "\n",
       "    .dataframe tbody tr th {\n",
       "        vertical-align: top;\n",
       "    }\n",
       "\n",
       "    .dataframe thead th {\n",
       "        text-align: right;\n",
       "    }\n",
       "</style>\n",
       "<table border=\"1\" class=\"dataframe\">\n",
       "  <thead>\n",
       "    <tr style=\"text-align: right;\">\n",
       "      <th></th>\n",
       "      <th>postcode</th>\n",
       "      <th>median_price</th>\n",
       "      <th>historic_flooding</th>\n",
       "      <th>riskLabel</th>\n",
       "      <th>annual_flood_risk</th>\n",
       "      <th>northing</th>\n",
       "      <th>easting</th>\n",
       "    </tr>\n",
       "  </thead>\n",
       "  <tbody>\n",
       "    <tr>\n",
       "      <th>0</th>\n",
       "      <td>B1 1BT</td>\n",
       "      <td>238152.250110</td>\n",
       "      <td>0.0</td>\n",
       "      <td>1</td>\n",
       "      <td>11.907613</td>\n",
       "      <td>286393</td>\n",
       "      <td>406875</td>\n",
       "    </tr>\n",
       "    <tr>\n",
       "      <th>1</th>\n",
       "      <td>B1 1JS</td>\n",
       "      <td>246321.531282</td>\n",
       "      <td>0.0</td>\n",
       "      <td>1</td>\n",
       "      <td>12.316077</td>\n",
       "      <td>286230</td>\n",
       "      <td>406543</td>\n",
       "    </tr>\n",
       "    <tr>\n",
       "      <th>2</th>\n",
       "      <td>B1 1RD</td>\n",
       "      <td>236294.972427</td>\n",
       "      <td>0.0</td>\n",
       "      <td>1</td>\n",
       "      <td>11.814749</td>\n",
       "      <td>286490</td>\n",
       "      <td>406624</td>\n",
       "    </tr>\n",
       "    <tr>\n",
       "      <th>3</th>\n",
       "      <td>B1 1US</td>\n",
       "      <td>256154.243866</td>\n",
       "      <td>0.0</td>\n",
       "      <td>1</td>\n",
       "      <td>12.807712</td>\n",
       "      <td>286530</td>\n",
       "      <td>406649</td>\n",
       "    </tr>\n",
       "    <tr>\n",
       "      <th>4</th>\n",
       "      <td>B1 2AJ</td>\n",
       "      <td>311966.965995</td>\n",
       "      <td>0.0</td>\n",
       "      <td>1</td>\n",
       "      <td>15.598348</td>\n",
       "      <td>286764</td>\n",
       "      <td>406620</td>\n",
       "    </tr>\n",
       "    <tr>\n",
       "      <th>...</th>\n",
       "      <td>...</td>\n",
       "      <td>...</td>\n",
       "      <td>...</td>\n",
       "      <td>...</td>\n",
       "      <td>...</td>\n",
       "      <td>...</td>\n",
       "      <td>...</td>\n",
       "    </tr>\n",
       "    <tr>\n",
       "      <th>9995</th>\n",
       "      <td>YO8 9LF</td>\n",
       "      <td>238285.866776</td>\n",
       "      <td>0.0</td>\n",
       "      <td>1</td>\n",
       "      <td>11.914293</td>\n",
       "      <td>428627</td>\n",
       "      <td>456223</td>\n",
       "    </tr>\n",
       "    <tr>\n",
       "      <th>9996</th>\n",
       "      <td>YO8 9QT</td>\n",
       "      <td>221064.290238</td>\n",
       "      <td>1.0</td>\n",
       "      <td>1</td>\n",
       "      <td>11.053215</td>\n",
       "      <td>430975</td>\n",
       "      <td>461235</td>\n",
       "    </tr>\n",
       "    <tr>\n",
       "      <th>9997</th>\n",
       "      <td>YO8 9UZ</td>\n",
       "      <td>218386.961123</td>\n",
       "      <td>1.0</td>\n",
       "      <td>1</td>\n",
       "      <td>10.919348</td>\n",
       "      <td>432471</td>\n",
       "      <td>461525</td>\n",
       "    </tr>\n",
       "    <tr>\n",
       "      <th>9998</th>\n",
       "      <td>YO8 9XE</td>\n",
       "      <td>222974.077006</td>\n",
       "      <td>0.0</td>\n",
       "      <td>1</td>\n",
       "      <td>11.148704</td>\n",
       "      <td>430888</td>\n",
       "      <td>461063</td>\n",
       "    </tr>\n",
       "    <tr>\n",
       "      <th>9999</th>\n",
       "      <td>YO8 9XW</td>\n",
       "      <td>208991.702800</td>\n",
       "      <td>0.0</td>\n",
       "      <td>6</td>\n",
       "      <td>156.743777</td>\n",
       "      <td>430632</td>\n",
       "      <td>459350</td>\n",
       "    </tr>\n",
       "  </tbody>\n",
       "</table>\n",
       "<p>10000 rows × 7 columns</p>\n",
       "</div>"
      ],
      "text/plain": [
       "     postcode   median_price  historic_flooding  riskLabel  annual_flood_risk  \\\n",
       "0      B1 1BT  238152.250110                0.0          1          11.907613   \n",
       "1      B1 1JS  246321.531282                0.0          1          12.316077   \n",
       "2      B1 1RD  236294.972427                0.0          1          11.814749   \n",
       "3      B1 1US  256154.243866                0.0          1          12.807712   \n",
       "4      B1 2AJ  311966.965995                0.0          1          15.598348   \n",
       "...       ...            ...                ...        ...                ...   \n",
       "9995  YO8 9LF  238285.866776                0.0          1          11.914293   \n",
       "9996  YO8 9QT  221064.290238                1.0          1          11.053215   \n",
       "9997  YO8 9UZ  218386.961123                1.0          1          10.919348   \n",
       "9998  YO8 9XE  222974.077006                0.0          1          11.148704   \n",
       "9999  YO8 9XW  208991.702800                0.0          6         156.743777   \n",
       "\n",
       "      northing  easting  \n",
       "0       286393   406875  \n",
       "1       286230   406543  \n",
       "2       286490   406624  \n",
       "3       286530   406649  \n",
       "4       286764   406620  \n",
       "...        ...      ...  \n",
       "9995    428627   456223  \n",
       "9996    430975   461235  \n",
       "9997    432471   461525  \n",
       "9998    430888   461063  \n",
       "9999    430632   459350  \n",
       "\n",
       "[10000 rows x 7 columns]"
      ]
     },
     "execution_count": 4,
     "metadata": {},
     "output_type": "execute_result"
    }
   ],
   "source": [
    "outputs "
   ]
  },
  {
   "cell_type": "code",
   "execution_count": 5,
   "id": "bfa1eda4",
   "metadata": {},
   "outputs": [],
   "source": [
    "import flood_tool as ft"
   ]
  },
  {
   "cell_type": "code",
   "execution_count": null,
   "id": "d2c7f341",
   "metadata": {},
   "outputs": [],
   "source": []
  },
  {
   "cell_type": "code",
   "execution_count": null,
   "id": "ea5571f9",
   "metadata": {},
   "outputs": [],
   "source": [
    "outputs_display = ft.display_features(data=outputs, parameter='annual_flood_risk')"
   ]
  },
  {
   "cell_type": "code",
   "execution_count": null,
   "id": "3aeec6c1",
   "metadata": {},
   "outputs": [],
   "source": []
  }
 ],
 "metadata": {
  "kernelspec": {
   "display_name": "Python 3 (ipykernel)",
   "language": "python",
   "name": "python3"
  },
  "language_info": {
   "codemirror_mode": {
    "name": "ipython",
    "version": 3
   },
   "file_extension": ".py",
   "mimetype": "text/x-python",
   "name": "python",
   "nbconvert_exporter": "python",
   "pygments_lexer": "ipython3",
   "version": "3.11.5"
  }
 },
 "nbformat": 4,
 "nbformat_minor": 5
}
